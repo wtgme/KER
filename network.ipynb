{
 "cells": [
  {
   "cell_type": "code",
   "execution_count": 3,
   "metadata": {},
   "outputs": [],
   "source": [
    "# !conda install -c conda-forge python-igraph"
   ]
  },
  {
   "cell_type": "code",
   "execution_count": 1,
   "metadata": {},
   "outputs": [],
   "source": [
    "from igraph import Graph as IGraph\n",
    "import pandas as pd\n",
    "from py2neo import Node, Relationship, Graph\n",
    "import numpy as np"
   ]
  },
  {
   "cell_type": "code",
   "execution_count": 2,
   "metadata": {},
   "outputs": [],
   "source": [
    "df = pd.read_csv('/home/ubuntu/Scarlett/Input/ED_main_cuis_input.csv')"
   ]
  },
  {
   "cell_type": "code",
   "execution_count": 3,
   "metadata": {},
   "outputs": [
    {
     "data": {
      "text/html": [
       "<div>\n",
       "<style scoped>\n",
       "    .dataframe tbody tr th:only-of-type {\n",
       "        vertical-align: middle;\n",
       "    }\n",
       "\n",
       "    .dataframe tbody tr th {\n",
       "        vertical-align: top;\n",
       "    }\n",
       "\n",
       "    .dataframe thead th {\n",
       "        text-align: right;\n",
       "    }\n",
       "</style>\n",
       "<table border=\"1\" class=\"dataframe\">\n",
       "  <thead>\n",
       "    <tr style=\"text-align: right;\">\n",
       "      <th></th>\n",
       "      <th>No.</th>\n",
       "      <th>cuis</th>\n",
       "      <th>sc.name</th>\n",
       "      <th>icd9</th>\n",
       "      <th>icd9_code</th>\n",
       "    </tr>\n",
       "  </thead>\n",
       "  <tbody>\n",
       "    <tr>\n",
       "      <th>0</th>\n",
       "      <td>1</td>\n",
       "      <td>C0859643</td>\n",
       "      <td>Senile dementia with delusional or depressive ...</td>\n",
       "      <td>2902.0</td>\n",
       "      <td>'2902'</td>\n",
       "    </tr>\n",
       "    <tr>\n",
       "      <th>1</th>\n",
       "      <td>2</td>\n",
       "      <td>C0154315</td>\n",
       "      <td>Senile dementia with delirium</td>\n",
       "      <td>2903.0</td>\n",
       "      <td>'2903'</td>\n",
       "    </tr>\n",
       "    <tr>\n",
       "      <th>2</th>\n",
       "      <td>3</td>\n",
       "      <td>C0154319</td>\n",
       "      <td>Other specified senile psychotic conditions</td>\n",
       "      <td>2908.0</td>\n",
       "      <td>'2908'</td>\n",
       "    </tr>\n",
       "    <tr>\n",
       "      <th>3</th>\n",
       "      <td>4</td>\n",
       "      <td>C1457889</td>\n",
       "      <td>Unspecified senile psychotic condition</td>\n",
       "      <td>2909.0</td>\n",
       "      <td>'2909'</td>\n",
       "    </tr>\n",
       "    <tr>\n",
       "      <th>4</th>\n",
       "      <td>5</td>\n",
       "      <td>C0001957</td>\n",
       "      <td>Alcohol withdrawal delirium</td>\n",
       "      <td>2910.0</td>\n",
       "      <td>'2910'</td>\n",
       "    </tr>\n",
       "  </tbody>\n",
       "</table>\n",
       "</div>"
      ],
      "text/plain": [
       "   No.      cuis                                            sc.name    icd9  \\\n",
       "0    1  C0859643  Senile dementia with delusional or depressive ...  2902.0   \n",
       "1    2  C0154315                      Senile dementia with delirium  2903.0   \n",
       "2    3  C0154319        Other specified senile psychotic conditions  2908.0   \n",
       "3    4  C1457889             Unspecified senile psychotic condition  2909.0   \n",
       "4    5  C0001957                        Alcohol withdrawal delirium  2910.0   \n",
       "\n",
       "  icd9_code  \n",
       "0    '2902'  \n",
       "1    '2903'  \n",
       "2    '2908'  \n",
       "3    '2909'  \n",
       "4    '2910'  "
      ]
     },
     "execution_count": 3,
     "metadata": {},
     "output_type": "execute_result"
    }
   ],
   "source": [
    "df.head()"
   ]
  },
  {
   "cell_type": "code",
   "execution_count": 4,
   "metadata": {},
   "outputs": [],
   "source": [
    "# df['cuis']"
   ]
  },
  {
   "cell_type": "code",
   "execution_count": 5,
   "metadata": {},
   "outputs": [],
   "source": [
    "graph = Graph(\"http://10.200.112.233:7474/db/data/\", user=\"scarlett\", password=\"Admin123\")"
   ]
  },
  {
   "cell_type": "code",
   "execution_count": 6,
   "metadata": {},
   "outputs": [],
   "source": [
    "def get_children_nodes(concept_id):\n",
    "    query = '''\n",
    "    MATCH (c:Concepts)<-[r:cui_2_cui{relation:'isa'}]-(child:Concepts)\n",
    "    where c.id = \\\"'''+ concept_id + '''\\\"\n",
    "    return c.id, c.name, child.id, child.name\n",
    "    '''\n",
    "    data = graph.run(query).to_data_frame()\n",
    "    return data\n"
   ]
  },
  {
   "cell_type": "code",
   "execution_count": 7,
   "metadata": {},
   "outputs": [],
   "source": [
    "# get_children_nodes('C0233407')"
   ]
  },
  {
   "cell_type": "code",
   "execution_count": 8,
   "metadata": {},
   "outputs": [],
   "source": [
    "visited, queue = set(), []\n",
    "tuples = []\n",
    "dfs = []\n",
    "\n",
    "for cid in set(df['cuis']):\n",
    "    visited.add(cid)\n",
    "    queue.append(cid)\n",
    "    \n",
    "while queue:\n",
    "    s = queue.pop(0)\n",
    "    \n",
    "    children = get_children_nodes(s)\n",
    "    if len(children) > 0:\n",
    "        for child in list(children['child.id']):\n",
    "            if child not in visited:\n",
    "                visited.add(child)\n",
    "                queue.append(child)\n",
    "\n",
    "            tuples.append([s, child])\n",
    "        dfs.append(children)"
   ]
  },
  {
   "cell_type": "code",
   "execution_count": 9,
   "metadata": {},
   "outputs": [],
   "source": [
    "concepts = pd.concat(dfs)\n",
    "concepts = {**dict(zip(concepts['c.id'], concepts['c.name'])), **dict(zip(concepts['child.id'], concepts['child.name']))}"
   ]
  },
  {
   "cell_type": "code",
   "execution_count": 10,
   "metadata": {},
   "outputs": [],
   "source": [
    "# tuples"
   ]
  },
  {
   "cell_type": "code",
   "execution_count": 11,
   "metadata": {},
   "outputs": [],
   "source": [
    "ig = IGraph.TupleList(tuples, weights=False, directed=True)"
   ]
  },
  {
   "cell_type": "code",
   "execution_count": 12,
   "metadata": {},
   "outputs": [
    {
     "data": {
      "text/plain": [
       "'IGRAPH DN-- 1755 2431 -- \\n+ attr: name (v)'"
      ]
     },
     "execution_count": 12,
     "metadata": {},
     "output_type": "execute_result"
    }
   ],
   "source": [
    "ig.summary()"
   ]
  },
  {
   "cell_type": "code",
   "execution_count": 13,
   "metadata": {},
   "outputs": [],
   "source": [
    "# layout = ig.layout(\"kk\")\n",
    "# plot(ig, layout = layout)"
   ]
  },
  {
   "cell_type": "code",
   "execution_count": 14,
   "metadata": {},
   "outputs": [],
   "source": [
    "# ig.write_graphml('data/children.GraphML')"
   ]
  },
  {
   "cell_type": "code",
   "execution_count": null,
   "metadata": {},
   "outputs": [],
   "source": []
  },
  {
   "cell_type": "code",
   "execution_count": 15,
   "metadata": {},
   "outputs": [],
   "source": [
    "def net_stat(g):\n",
    "    node_n = g.vcount()\n",
    "    edge_m = g.ecount()\n",
    "    degree_mean = np.mean(g.indegree())\n",
    "    degree_std = np.std(g.indegree())\n",
    "    outdegree_mean = np.mean(g.outdegree())\n",
    "    outdegree_std = np.std(g.outdegree())\n",
    "    density = g.density()\n",
    "#     avg_path = g.average_path_length(directed=True, unconn=True)\n",
    "    avg_path = 0\n",
    "    components = g.clusters(mode='WEAK')\n",
    "    comp_count = len(components)\n",
    "    giant_comp = components.giant()\n",
    "    giant_comp_r = float(giant_comp.vcount())/node_n\n",
    "    cluster_co_global = g.transitivity_undirected()\n",
    "    # cluster_co_avg = g.transitivity_avglocal_undirected()\n",
    "    recip = g.reciprocity()\n",
    "    assort = g.assortativity_degree(directed=True)\n",
    "    print ('#Node, #Edge, <kin>, std(kin), <kout>, std(out), #Density, #Path, #Comp, %GCR, Cluster, Recip, Assort')\n",
    "    print ('%d, %d, %.3f, %.3f, %.3f, %.3f,%.3f, %.3f, %d, %.3f, %.3f, %.3f, %.3f ' % (node_n, edge_m, degree_mean, degree_std, outdegree_mean, outdegree_std, density, avg_path, comp_count, giant_comp_r, cluster_co_global, recip, assort))\n"
   ]
  },
  {
   "cell_type": "code",
   "execution_count": 16,
   "metadata": {},
   "outputs": [
    {
     "name": "stdout",
     "output_type": "stream",
     "text": [
      "#Node, #Edge, <kin>, std(kin), <kout>, std(out), #Density, #Path, #Comp, %GCR, Cluster, Recip, Assort\n",
      "1755, 2431, 1.385, 0.632, 1.385, 4.054,0.001, 0.000, 10, 0.916, 0.044, 0.003, -0.186 \n"
     ]
    }
   ],
   "source": [
    "net_stat(ig)"
   ]
  },
  {
   "cell_type": "markdown",
   "metadata": {},
   "source": [
    "### There are 10 components"
   ]
  },
  {
   "cell_type": "code",
   "execution_count": 17,
   "metadata": {},
   "outputs": [],
   "source": [
    "ig.vs['ind'] = ig.indegree()"
   ]
  },
  {
   "cell_type": "markdown",
   "metadata": {},
   "source": [
    "### Root nodes "
   ]
  },
  {
   "cell_type": "code",
   "execution_count": 19,
   "metadata": {},
   "outputs": [
    {
     "name": "stdout",
     "output_type": "stream",
     "text": [
      "C0018524 Hallucinations\n",
      "C0278166 Glasgow coma scale, 5\n",
      "C0029226 Hallucinations, Organic\n",
      "C0009676 Confusion\n",
      "C0278165 Glasgow coma scale, 4\n",
      "C0085584 Encephalopathies\n",
      "C0859643 senile dementia with delusional or depressive features\n",
      "C0278167 Glasgow coma scale, 6\n",
      "C1821572 Decreased level of consciousness\n",
      "C0237284 unresponsive behavior\n",
      "C0152129 Pathological drug intoxication\n",
      "C0154315 Senile dementia with delirium\n",
      "C0233522 Inappropriate behavior\n",
      "C0278061 Abnormal mental state\n",
      "C0233407 Disorientation\n",
      "C0278164 Glasgow coma scale, 3\n",
      "C0033975 Psychotic Disorders\n",
      "C0085631 Agitation\n",
      "C0011253 Delusions\n",
      "C0023380 Lethargy\n",
      "C0154309 Presenile dementia with delirium\n",
      "C0009421 Comatose\n"
     ]
    }
   ],
   "source": [
    "for n in ig.vs.select(ind=0)['name']:\n",
    "    print(n, concepts[n])"
   ]
  },
  {
   "cell_type": "code",
   "execution_count": null,
   "metadata": {},
   "outputs": [],
   "source": []
  }
 ],
 "metadata": {
  "kernelspec": {
   "display_name": "Python 3",
   "language": "python",
   "name": "python3"
  },
  "language_info": {
   "codemirror_mode": {
    "name": "ipython",
    "version": 3
   },
   "file_extension": ".py",
   "mimetype": "text/x-python",
   "name": "python",
   "nbconvert_exporter": "python",
   "pygments_lexer": "ipython3",
   "version": "3.8.5"
  }
 },
 "nbformat": 4,
 "nbformat_minor": 4
}
