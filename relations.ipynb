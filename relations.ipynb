{
 "cells": [
  {
   "cell_type": "code",
   "execution_count": 1,
   "metadata": {},
   "outputs": [],
   "source": [
    "import pandas as pd\n",
    "# import sqlalchemy as sql\n",
    "import numpy as np\n",
    "import seaborn as sns\n",
    "import matplotlib.pyplot as plt\n",
    "import pickle\n",
    "import json"
   ]
  },
  {
   "cell_type": "markdown",
   "metadata": {},
   "source": [
    "### The relations only for (DIR='Y' or DIR IS NULL) AND (SUPPRESS='N') AND (RELA is not null). Duplicated tuples ('CUI1', 'CUI2', 'RELA') are deleted. Self links of CUI1==CUI2 are removed"
   ]
  },
  {
   "cell_type": "code",
   "execution_count": 2,
   "metadata": {
    "scrolled": true
   },
   "outputs": [
    {
     "name": "stderr",
     "output_type": "stream",
     "text": [
      "/tmp/slurm-tmp.1543478/ipykernel_890993/2527345156.py:1: DtypeWarning: Columns (9,13) have mixed types. Specify dtype option on import or set low_memory=False.\n",
      "  df = pd.read_csv('data/relations.csv')\n"
     ]
    }
   ],
   "source": [
    "df = pd.read_csv('data/relations.csv')"
   ]
  },
  {
   "cell_type": "code",
   "execution_count": 3,
   "metadata": {},
   "outputs": [
    {
     "data": {
      "text/plain": [
       "(14548762, 16)"
      ]
     },
     "execution_count": 3,
     "metadata": {},
     "output_type": "execute_result"
    }
   ],
   "source": [
    "df.shape"
   ]
  },
  {
   "cell_type": "code",
   "execution_count": 4,
   "metadata": {},
   "outputs": [],
   "source": [
    "# df = df[df['DIR']=='Y']"
   ]
  },
  {
   "cell_type": "code",
   "execution_count": 5,
   "metadata": {},
   "outputs": [
    {
     "data": {
      "text/plain": [
       "(14548762, 16)"
      ]
     },
     "execution_count": 5,
     "metadata": {},
     "output_type": "execute_result"
    }
   ],
   "source": [
    "df.shape"
   ]
  },
  {
   "cell_type": "code",
   "execution_count": 6,
   "metadata": {},
   "outputs": [],
   "source": [
    "df['id'] = range(len(df))"
   ]
  },
  {
   "cell_type": "code",
   "execution_count": 7,
   "metadata": {},
   "outputs": [
    {
     "data": {
      "text/html": [
       "<div>\n",
       "<style scoped>\n",
       "    .dataframe tbody tr th:only-of-type {\n",
       "        vertical-align: middle;\n",
       "    }\n",
       "\n",
       "    .dataframe tbody tr th {\n",
       "        vertical-align: top;\n",
       "    }\n",
       "\n",
       "    .dataframe thead th {\n",
       "        text-align: right;\n",
       "    }\n",
       "</style>\n",
       "<table border=\"1\" class=\"dataframe\">\n",
       "  <thead>\n",
       "    <tr style=\"text-align: right;\">\n",
       "      <th></th>\n",
       "      <th>CUI1</th>\n",
       "      <th>AUI1</th>\n",
       "      <th>STYPE1</th>\n",
       "      <th>REL</th>\n",
       "      <th>CUI2</th>\n",
       "      <th>AUI2</th>\n",
       "      <th>STYPE2</th>\n",
       "      <th>RELA</th>\n",
       "      <th>RUI</th>\n",
       "      <th>SRUI</th>\n",
       "      <th>SAB</th>\n",
       "      <th>SL</th>\n",
       "      <th>RG</th>\n",
       "      <th>DIR</th>\n",
       "      <th>SUPPRESS</th>\n",
       "      <th>CVF</th>\n",
       "      <th>id</th>\n",
       "    </tr>\n",
       "  </thead>\n",
       "  <tbody>\n",
       "    <tr>\n",
       "      <th>0</th>\n",
       "      <td>C0000039</td>\n",
       "      <td>A0016515</td>\n",
       "      <td>SDUI</td>\n",
       "      <td>RN</td>\n",
       "      <td>C0043950</td>\n",
       "      <td>A0137399</td>\n",
       "      <td>SDUI</td>\n",
       "      <td>mapped_to</td>\n",
       "      <td>R148171650</td>\n",
       "      <td>NaN</td>\n",
       "      <td>MSH</td>\n",
       "      <td>MSH</td>\n",
       "      <td>1.0</td>\n",
       "      <td>NaN</td>\n",
       "      <td>N</td>\n",
       "      <td>NaN</td>\n",
       "      <td>0</td>\n",
       "    </tr>\n",
       "    <tr>\n",
       "      <th>1</th>\n",
       "      <td>C0000039</td>\n",
       "      <td>A0016515</td>\n",
       "      <td>SDUI</td>\n",
       "      <td>RN</td>\n",
       "      <td>C0216971</td>\n",
       "      <td>A0376033</td>\n",
       "      <td>SDUI</td>\n",
       "      <td>mapped_to</td>\n",
       "      <td>R148183528</td>\n",
       "      <td>NaN</td>\n",
       "      <td>MSH</td>\n",
       "      <td>MSH</td>\n",
       "      <td>1.0</td>\n",
       "      <td>NaN</td>\n",
       "      <td>N</td>\n",
       "      <td>NaN</td>\n",
       "      <td>1</td>\n",
       "    </tr>\n",
       "    <tr>\n",
       "      <th>2</th>\n",
       "      <td>C0000039</td>\n",
       "      <td>A18399186</td>\n",
       "      <td>SCUI</td>\n",
       "      <td>RO</td>\n",
       "      <td>C0364349</td>\n",
       "      <td>A18182073</td>\n",
       "      <td>SCUI</td>\n",
       "      <td>has_component</td>\n",
       "      <td>R165238590</td>\n",
       "      <td>NaN</td>\n",
       "      <td>LNC</td>\n",
       "      <td>LNC</td>\n",
       "      <td>NaN</td>\n",
       "      <td>NaN</td>\n",
       "      <td>N</td>\n",
       "      <td>NaN</td>\n",
       "      <td>2</td>\n",
       "    </tr>\n",
       "    <tr>\n",
       "      <th>3</th>\n",
       "      <td>C0000039</td>\n",
       "      <td>A23513030</td>\n",
       "      <td>SCUI</td>\n",
       "      <td>RO</td>\n",
       "      <td>C0364349</td>\n",
       "      <td>A18182073</td>\n",
       "      <td>SCUI</td>\n",
       "      <td>measures</td>\n",
       "      <td>R167106427</td>\n",
       "      <td>NaN</td>\n",
       "      <td>LNC</td>\n",
       "      <td>LNC</td>\n",
       "      <td>NaN</td>\n",
       "      <td>NaN</td>\n",
       "      <td>N</td>\n",
       "      <td>NaN</td>\n",
       "      <td>3</td>\n",
       "    </tr>\n",
       "    <tr>\n",
       "      <th>4</th>\n",
       "      <td>C0000039</td>\n",
       "      <td>A0016515</td>\n",
       "      <td>SDUI</td>\n",
       "      <td>RN</td>\n",
       "      <td>C0381030</td>\n",
       "      <td>A0683149</td>\n",
       "      <td>SDUI</td>\n",
       "      <td>mapped_to</td>\n",
       "      <td>R148166148</td>\n",
       "      <td>NaN</td>\n",
       "      <td>MSH</td>\n",
       "      <td>MSH</td>\n",
       "      <td>1.0</td>\n",
       "      <td>NaN</td>\n",
       "      <td>N</td>\n",
       "      <td>NaN</td>\n",
       "      <td>4</td>\n",
       "    </tr>\n",
       "  </tbody>\n",
       "</table>\n",
       "</div>"
      ],
      "text/plain": [
       "       CUI1       AUI1 STYPE1 REL      CUI2       AUI2 STYPE2           RELA  \\\n",
       "0  C0000039   A0016515   SDUI  RN  C0043950   A0137399   SDUI      mapped_to   \n",
       "1  C0000039   A0016515   SDUI  RN  C0216971   A0376033   SDUI      mapped_to   \n",
       "2  C0000039  A18399186   SCUI  RO  C0364349  A18182073   SCUI  has_component   \n",
       "3  C0000039  A23513030   SCUI  RO  C0364349  A18182073   SCUI       measures   \n",
       "4  C0000039   A0016515   SDUI  RN  C0381030   A0683149   SDUI      mapped_to   \n",
       "\n",
       "          RUI SRUI  SAB   SL   RG  DIR SUPPRESS  CVF  id  \n",
       "0  R148171650  NaN  MSH  MSH  1.0  NaN        N  NaN   0  \n",
       "1  R148183528  NaN  MSH  MSH  1.0  NaN        N  NaN   1  \n",
       "2  R165238590  NaN  LNC  LNC  NaN  NaN        N  NaN   2  \n",
       "3  R167106427  NaN  LNC  LNC  NaN  NaN        N  NaN   3  \n",
       "4  R148166148  NaN  MSH  MSH  1.0  NaN        N  NaN   4  "
      ]
     },
     "execution_count": 7,
     "metadata": {},
     "output_type": "execute_result"
    }
   ],
   "source": [
    "df.head()"
   ]
  },
  {
   "cell_type": "code",
   "execution_count": null,
   "metadata": {},
   "outputs": [],
   "source": []
  },
  {
   "cell_type": "code",
   "execution_count": 8,
   "metadata": {},
   "outputs": [],
   "source": [
    "# df[(df['CUI2']=='C0043950') &  (df['CUI1']=='C0000039')]"
   ]
  },
  {
   "cell_type": "code",
   "execution_count": 9,
   "metadata": {},
   "outputs": [],
   "source": [
    "# df[(df['CUI2']=='C0000039') &  (df['CUI1']=='C0043950')]"
   ]
  },
  {
   "cell_type": "code",
   "execution_count": 10,
   "metadata": {},
   "outputs": [],
   "source": [
    "# df['CUI1'] = df['CUI1'].astype(str)\n",
    "# df['CUI2'] = df['CUI2'].astype(str)"
   ]
  },
  {
   "cell_type": "code",
   "execution_count": 11,
   "metadata": {},
   "outputs": [],
   "source": [
    "# The order of concepts should be determined by the text, not from KB\n",
    "df['pair'] = df[['CUI1', 'CUI2']].apply(lambda x : '{}-{}'.format(x[0],x[1]) if str(x[0])<str(x[1]) else '{}-{}'.format(x[1],x[0]), axis=1)"
   ]
  },
  {
   "cell_type": "code",
   "execution_count": 12,
   "metadata": {},
   "outputs": [],
   "source": [
    "# df.head()"
   ]
  },
  {
   "cell_type": "code",
   "execution_count": 13,
   "metadata": {},
   "outputs": [],
   "source": [
    "# df[df['DIR']=='Y']['pair'].nunique()\n",
    "# # /1259876"
   ]
  },
  {
   "cell_type": "code",
   "execution_count": 14,
   "metadata": {},
   "outputs": [],
   "source": [
    "# df[df['DIR']=='Y']['CUI2'].nunique()\n",
    "# # 407584"
   ]
  },
  {
   "cell_type": "code",
   "execution_count": 15,
   "metadata": {},
   "outputs": [],
   "source": [
    "# df['pair'].nunique()"
   ]
  },
  {
   "cell_type": "code",
   "execution_count": 16,
   "metadata": {},
   "outputs": [],
   "source": [
    "# set(df['RELA']) - set(df[df['DIR']=='Y']['RELA'])"
   ]
  },
  {
   "cell_type": "code",
   "execution_count": 17,
   "metadata": {},
   "outputs": [],
   "source": [
    "# df[df['DIR'].isna()]['SAB'].unique()"
   ]
  },
  {
   "cell_type": "markdown",
   "metadata": {},
   "source": [
    "## Fix inverse RELA"
   ]
  },
  {
   "cell_type": "markdown",
   "metadata": {},
   "source": [
    "### This is hard to determine directions, as the majorty has null DIR. Following https://www.nlm.nih.gov/research/umls/Snomed/snomed_represented.html, In UMLS, every source relationship is represented in two directions (e.g. is-a and inverse-is-a) in separate rows. In MRREL.RRF, those rows with DIR = 'Y' are those with the same directionality as in the source. SELECT SRUI FROM MRREL.RRF WHERE DIR = 'Y' will get all Relationship Ids. https://www.nlm.nih.gov/research/umls/implementation_resources/query_diagrams/er3.html So just use DIR = 'Y' relationships (mainly from SNOMED). Try to remove inverse pairs"
   ]
  },
  {
   "cell_type": "markdown",
   "metadata": {},
   "source": [
    "#### Find inverse pairs of RELAs in UMLS"
   ]
  },
  {
   "cell_type": "code",
   "execution_count": 18,
   "metadata": {},
   "outputs": [],
   "source": [
    "relas = pd.read_csv('data/rela_inverse.csv')"
   ]
  },
  {
   "cell_type": "code",
   "execution_count": 19,
   "metadata": {},
   "outputs": [
    {
     "data": {
      "text/html": [
       "<div>\n",
       "<style scoped>\n",
       "    .dataframe tbody tr th:only-of-type {\n",
       "        vertical-align: middle;\n",
       "    }\n",
       "\n",
       "    .dataframe tbody tr th {\n",
       "        vertical-align: top;\n",
       "    }\n",
       "\n",
       "    .dataframe thead th {\n",
       "        text-align: right;\n",
       "    }\n",
       "</style>\n",
       "<table border=\"1\" class=\"dataframe\">\n",
       "  <thead>\n",
       "    <tr style=\"text-align: right;\">\n",
       "      <th></th>\n",
       "      <th>DOCKEY</th>\n",
       "      <th>VALUE</th>\n",
       "      <th>TYPE</th>\n",
       "      <th>EXPL</th>\n",
       "    </tr>\n",
       "  </thead>\n",
       "  <tbody>\n",
       "    <tr>\n",
       "      <th>0</th>\n",
       "      <td>RELA</td>\n",
       "      <td>abnormal_cell_affected_by_chemical_or_drug</td>\n",
       "      <td>rela_inverse</td>\n",
       "      <td>chemical_or_drug_affects_abnormal_cell</td>\n",
       "    </tr>\n",
       "    <tr>\n",
       "      <th>1</th>\n",
       "      <td>RELA</td>\n",
       "      <td>abnormality_associated_with_allele</td>\n",
       "      <td>rela_inverse</td>\n",
       "      <td>allele_has_abnormality</td>\n",
       "    </tr>\n",
       "    <tr>\n",
       "      <th>2</th>\n",
       "      <td>RELA</td>\n",
       "      <td>access_device_used_by</td>\n",
       "      <td>rela_inverse</td>\n",
       "      <td>uses_access_device</td>\n",
       "    </tr>\n",
       "    <tr>\n",
       "      <th>3</th>\n",
       "      <td>RELA</td>\n",
       "      <td>access_instrument_of</td>\n",
       "      <td>rela_inverse</td>\n",
       "      <td>has_access_instrument</td>\n",
       "    </tr>\n",
       "    <tr>\n",
       "      <th>4</th>\n",
       "      <td>RELA</td>\n",
       "      <td>access_of</td>\n",
       "      <td>rela_inverse</td>\n",
       "      <td>has_access</td>\n",
       "    </tr>\n",
       "  </tbody>\n",
       "</table>\n",
       "</div>"
      ],
      "text/plain": [
       "  DOCKEY                                       VALUE          TYPE  \\\n",
       "0   RELA  abnormal_cell_affected_by_chemical_or_drug  rela_inverse   \n",
       "1   RELA          abnormality_associated_with_allele  rela_inverse   \n",
       "2   RELA                       access_device_used_by  rela_inverse   \n",
       "3   RELA                        access_instrument_of  rela_inverse   \n",
       "4   RELA                                   access_of  rela_inverse   \n",
       "\n",
       "                                     EXPL  \n",
       "0  chemical_or_drug_affects_abnormal_cell  \n",
       "1                  allele_has_abnormality  \n",
       "2                      uses_access_device  \n",
       "3                   has_access_instrument  \n",
       "4                              has_access  "
      ]
     },
     "execution_count": 19,
     "metadata": {},
     "output_type": "execute_result"
    }
   ],
   "source": [
    "relas.head()"
   ]
  },
  {
   "cell_type": "code",
   "execution_count": 20,
   "metadata": {},
   "outputs": [
    {
     "data": {
      "text/plain": [
       "(910, 4)"
      ]
     },
     "execution_count": 20,
     "metadata": {},
     "output_type": "execute_result"
    }
   ],
   "source": [
    "relas.shape"
   ]
  },
  {
   "cell_type": "code",
   "execution_count": 21,
   "metadata": {},
   "outputs": [],
   "source": [
    "invers = pd.Series(relas.EXPL.values,index=relas.VALUE).to_dict()"
   ]
  },
  {
   "cell_type": "code",
   "execution_count": 22,
   "metadata": {},
   "outputs": [
    {
     "data": {
      "text/plain": [
       "910"
      ]
     },
     "execution_count": 22,
     "metadata": {},
     "output_type": "execute_result"
    }
   ],
   "source": [
    "len(invers)"
   ]
  },
  {
   "cell_type": "code",
   "execution_count": 23,
   "metadata": {},
   "outputs": [],
   "source": [
    "# relas['pair'] = relas[['EXPL', 'VALUE']].apply(lambda x : \n",
    "#                                                 '{}-{}'.format(x[0],x[1]) if str(x[0])<str(x[1]) else \n",
    "#                                                 '{}-{}'.format(x[1],x[0]), axis=1)"
   ]
  },
  {
   "cell_type": "code",
   "execution_count": 24,
   "metadata": {},
   "outputs": [],
   "source": [
    "# relas['pair'].unique()"
   ]
  },
  {
   "cell_type": "code",
   "execution_count": 25,
   "metadata": {},
   "outputs": [
    {
     "data": {
      "text/plain": [
       "22"
      ]
     },
     "execution_count": 25,
     "metadata": {},
     "output_type": "execute_result"
    }
   ],
   "source": [
    "466*2-910"
   ]
  },
  {
   "cell_type": "code",
   "execution_count": null,
   "metadata": {},
   "outputs": [],
   "source": []
  },
  {
   "cell_type": "markdown",
   "metadata": {},
   "source": [
    "#### Order RELA based on frequency, left direction often has a higher frequency than right direction"
   ]
  },
  {
   "cell_type": "code",
   "execution_count": 26,
   "metadata": {},
   "outputs": [],
   "source": [
    "rels_order = df['RELA'].value_counts().reset_index()"
   ]
  },
  {
   "cell_type": "code",
   "execution_count": 27,
   "metadata": {
    "scrolled": false
   },
   "outputs": [
    {
     "data": {
      "text/html": [
       "<div>\n",
       "<style scoped>\n",
       "    .dataframe tbody tr th:only-of-type {\n",
       "        vertical-align: middle;\n",
       "    }\n",
       "\n",
       "    .dataframe tbody tr th {\n",
       "        vertical-align: top;\n",
       "    }\n",
       "\n",
       "    .dataframe thead th {\n",
       "        text-align: right;\n",
       "    }\n",
       "</style>\n",
       "<table border=\"1\" class=\"dataframe\">\n",
       "  <thead>\n",
       "    <tr style=\"text-align: right;\">\n",
       "      <th></th>\n",
       "      <th>index</th>\n",
       "      <th>RELA</th>\n",
       "    </tr>\n",
       "  </thead>\n",
       "  <tbody>\n",
       "    <tr>\n",
       "      <th>0</th>\n",
       "      <td>isa</td>\n",
       "      <td>1725865</td>\n",
       "    </tr>\n",
       "    <tr>\n",
       "      <th>1</th>\n",
       "      <td>inverse_isa</td>\n",
       "      <td>1174130</td>\n",
       "    </tr>\n",
       "    <tr>\n",
       "      <th>2</th>\n",
       "      <td>sib_in_isa</td>\n",
       "      <td>545046</td>\n",
       "    </tr>\n",
       "    <tr>\n",
       "      <th>3</th>\n",
       "      <td>mapped_to</td>\n",
       "      <td>540915</td>\n",
       "    </tr>\n",
       "    <tr>\n",
       "      <th>4</th>\n",
       "      <td>mapped_from</td>\n",
       "      <td>440202</td>\n",
       "    </tr>\n",
       "    <tr>\n",
       "      <th>...</th>\n",
       "      <td>...</td>\n",
       "      <td>...</td>\n",
       "    </tr>\n",
       "    <tr>\n",
       "      <th>817</th>\n",
       "      <td>larger_than</td>\n",
       "      <td>1</td>\n",
       "    </tr>\n",
       "    <tr>\n",
       "      <th>818</th>\n",
       "      <td>external_to</td>\n",
       "      <td>1</td>\n",
       "    </tr>\n",
       "    <tr>\n",
       "      <th>819</th>\n",
       "      <td>has_excluded_approach</td>\n",
       "      <td>1</td>\n",
       "    </tr>\n",
       "    <tr>\n",
       "      <th>820</th>\n",
       "      <td>chromosomal_location_of_wild-type_gene</td>\n",
       "      <td>1</td>\n",
       "    </tr>\n",
       "    <tr>\n",
       "      <th>821</th>\n",
       "      <td>transliterated_form_of</td>\n",
       "      <td>1</td>\n",
       "    </tr>\n",
       "  </tbody>\n",
       "</table>\n",
       "<p>822 rows × 2 columns</p>\n",
       "</div>"
      ],
      "text/plain": [
       "                                      index     RELA\n",
       "0                                       isa  1725865\n",
       "1                               inverse_isa  1174130\n",
       "2                                sib_in_isa   545046\n",
       "3                                 mapped_to   540915\n",
       "4                               mapped_from   440202\n",
       "..                                      ...      ...\n",
       "817                             larger_than        1\n",
       "818                             external_to        1\n",
       "819                   has_excluded_approach        1\n",
       "820  chromosomal_location_of_wild-type_gene        1\n",
       "821                  transliterated_form_of        1\n",
       "\n",
       "[822 rows x 2 columns]"
      ]
     },
     "execution_count": 27,
     "metadata": {},
     "output_type": "execute_result"
    }
   ],
   "source": [
    "rels_order"
   ]
  },
  {
   "cell_type": "code",
   "execution_count": 28,
   "metadata": {},
   "outputs": [],
   "source": [
    "rels_order['len'] = rels_order['index'].str.len()\n",
    "rels_order['by'] = rels_order['index'].str.contains('by')\n",
    "rels_order['has'] = rels_order['index'].str.contains('has')"
   ]
  },
  {
   "cell_type": "code",
   "execution_count": 29,
   "metadata": {},
   "outputs": [],
   "source": [
    "rels_order = rels_order.sort_values(by=['RELA','len', 'has', 'by'], ascending = (False, True, False, True))"
   ]
  },
  {
   "cell_type": "code",
   "execution_count": 30,
   "metadata": {},
   "outputs": [],
   "source": [
    "# rels_order = rels_order.sort_values(by=['len'], ascending = (True))"
   ]
  },
  {
   "cell_type": "code",
   "execution_count": 31,
   "metadata": {},
   "outputs": [
    {
     "data": {
      "text/html": [
       "<div>\n",
       "<style scoped>\n",
       "    .dataframe tbody tr th:only-of-type {\n",
       "        vertical-align: middle;\n",
       "    }\n",
       "\n",
       "    .dataframe tbody tr th {\n",
       "        vertical-align: top;\n",
       "    }\n",
       "\n",
       "    .dataframe thead th {\n",
       "        text-align: right;\n",
       "    }\n",
       "</style>\n",
       "<table border=\"1\" class=\"dataframe\">\n",
       "  <thead>\n",
       "    <tr style=\"text-align: right;\">\n",
       "      <th></th>\n",
       "      <th>index</th>\n",
       "      <th>RELA</th>\n",
       "      <th>len</th>\n",
       "      <th>by</th>\n",
       "      <th>has</th>\n",
       "    </tr>\n",
       "  </thead>\n",
       "  <tbody>\n",
       "    <tr>\n",
       "      <th>0</th>\n",
       "      <td>isa</td>\n",
       "      <td>1725865</td>\n",
       "      <td>3</td>\n",
       "      <td>False</td>\n",
       "      <td>False</td>\n",
       "    </tr>\n",
       "    <tr>\n",
       "      <th>1</th>\n",
       "      <td>inverse_isa</td>\n",
       "      <td>1174130</td>\n",
       "      <td>11</td>\n",
       "      <td>False</td>\n",
       "      <td>False</td>\n",
       "    </tr>\n",
       "    <tr>\n",
       "      <th>2</th>\n",
       "      <td>sib_in_isa</td>\n",
       "      <td>545046</td>\n",
       "      <td>10</td>\n",
       "      <td>False</td>\n",
       "      <td>False</td>\n",
       "    </tr>\n",
       "    <tr>\n",
       "      <th>3</th>\n",
       "      <td>mapped_to</td>\n",
       "      <td>540915</td>\n",
       "      <td>9</td>\n",
       "      <td>False</td>\n",
       "      <td>False</td>\n",
       "    </tr>\n",
       "    <tr>\n",
       "      <th>4</th>\n",
       "      <td>mapped_from</td>\n",
       "      <td>440202</td>\n",
       "      <td>11</td>\n",
       "      <td>False</td>\n",
       "      <td>False</td>\n",
       "    </tr>\n",
       "    <tr>\n",
       "      <th>...</th>\n",
       "      <td>...</td>\n",
       "      <td>...</td>\n",
       "      <td>...</td>\n",
       "      <td>...</td>\n",
       "      <td>...</td>\n",
       "    </tr>\n",
       "    <tr>\n",
       "      <th>800</th>\n",
       "      <td>has_possibly_included_panel_element</td>\n",
       "      <td>1</td>\n",
       "      <td>35</td>\n",
       "      <td>False</td>\n",
       "      <td>True</td>\n",
       "    </tr>\n",
       "    <tr>\n",
       "      <th>810</th>\n",
       "      <td>route_of_administration_of_excluded</td>\n",
       "      <td>1</td>\n",
       "      <td>35</td>\n",
       "      <td>False</td>\n",
       "      <td>False</td>\n",
       "    </tr>\n",
       "    <tr>\n",
       "      <th>814</th>\n",
       "      <td>has_excluded_route_of_administration</td>\n",
       "      <td>1</td>\n",
       "      <td>36</td>\n",
       "      <td>False</td>\n",
       "      <td>True</td>\n",
       "    </tr>\n",
       "    <tr>\n",
       "      <th>820</th>\n",
       "      <td>chromosomal_location_of_wild-type_gene</td>\n",
       "      <td>1</td>\n",
       "      <td>38</td>\n",
       "      <td>False</td>\n",
       "      <td>False</td>\n",
       "    </tr>\n",
       "    <tr>\n",
       "      <th>811</th>\n",
       "      <td>allele_absent_from_wild-type_chromosomal_location</td>\n",
       "      <td>1</td>\n",
       "      <td>49</td>\n",
       "      <td>False</td>\n",
       "      <td>False</td>\n",
       "    </tr>\n",
       "  </tbody>\n",
       "</table>\n",
       "<p>822 rows × 5 columns</p>\n",
       "</div>"
      ],
      "text/plain": [
       "                                                 index     RELA  len     by  \\\n",
       "0                                                  isa  1725865    3  False   \n",
       "1                                          inverse_isa  1174130   11  False   \n",
       "2                                           sib_in_isa   545046   10  False   \n",
       "3                                            mapped_to   540915    9  False   \n",
       "4                                          mapped_from   440202   11  False   \n",
       "..                                                 ...      ...  ...    ...   \n",
       "800                has_possibly_included_panel_element        1   35  False   \n",
       "810                route_of_administration_of_excluded        1   35  False   \n",
       "814               has_excluded_route_of_administration        1   36  False   \n",
       "820             chromosomal_location_of_wild-type_gene        1   38  False   \n",
       "811  allele_absent_from_wild-type_chromosomal_location        1   49  False   \n",
       "\n",
       "       has  \n",
       "0    False  \n",
       "1    False  \n",
       "2    False  \n",
       "3    False  \n",
       "4    False  \n",
       "..     ...  \n",
       "800   True  \n",
       "810  False  \n",
       "814   True  \n",
       "820  False  \n",
       "811  False  \n",
       "\n",
       "[822 rows x 5 columns]"
      ]
     },
     "execution_count": 31,
     "metadata": {},
     "output_type": "execute_result"
    }
   ],
   "source": [
    "rels_order"
   ]
  },
  {
   "cell_type": "code",
   "execution_count": null,
   "metadata": {},
   "outputs": [],
   "source": []
  },
  {
   "cell_type": "code",
   "execution_count": 32,
   "metadata": {},
   "outputs": [],
   "source": [
    "# rels_order[rels_order['index'].isin(['may_be_treated_by', 'may_treat',\n",
    "#                                      'gene_mutant_encodes_gene_product_sequence_variation',\n",
    "#                                     'gene_product_sequence_variation_encoded_by_gene_mutant',\n",
    "#                                      'is_marked_by_gene_product',\n",
    "#                                      'gene_product_is_biomarker_of',\n",
    "#                                      'has_excluded_locale', \n",
    "#                                      'locale_of_excluded',\n",
    "#                                      'replaced_by',\n",
    "#                                      'replaces'\n",
    "#                                     ])]"
   ]
  },
  {
   "cell_type": "code",
   "execution_count": 33,
   "metadata": {},
   "outputs": [],
   "source": [
    "lefts = set()\n",
    "for index, row in rels_order.iterrows():\n",
    "    if (row['index'] not in lefts) & (invers[row['index']] not in lefts):\n",
    "        lefts.add(row['index'])"
   ]
  },
  {
   "cell_type": "code",
   "execution_count": 34,
   "metadata": {},
   "outputs": [
    {
     "data": {
      "text/html": [
       "<div>\n",
       "<style scoped>\n",
       "    .dataframe tbody tr th:only-of-type {\n",
       "        vertical-align: middle;\n",
       "    }\n",
       "\n",
       "    .dataframe tbody tr th {\n",
       "        vertical-align: top;\n",
       "    }\n",
       "\n",
       "    .dataframe thead th {\n",
       "        text-align: right;\n",
       "    }\n",
       "</style>\n",
       "<table border=\"1\" class=\"dataframe\">\n",
       "  <thead>\n",
       "    <tr style=\"text-align: right;\">\n",
       "      <th></th>\n",
       "      <th>index</th>\n",
       "      <th>RELA</th>\n",
       "      <th>len</th>\n",
       "      <th>by</th>\n",
       "      <th>has</th>\n",
       "    </tr>\n",
       "  </thead>\n",
       "  <tbody>\n",
       "    <tr>\n",
       "      <th>0</th>\n",
       "      <td>isa</td>\n",
       "      <td>1725865</td>\n",
       "      <td>3</td>\n",
       "      <td>False</td>\n",
       "      <td>False</td>\n",
       "    </tr>\n",
       "    <tr>\n",
       "      <th>1</th>\n",
       "      <td>inverse_isa</td>\n",
       "      <td>1174130</td>\n",
       "      <td>11</td>\n",
       "      <td>False</td>\n",
       "      <td>False</td>\n",
       "    </tr>\n",
       "    <tr>\n",
       "      <th>2</th>\n",
       "      <td>sib_in_isa</td>\n",
       "      <td>545046</td>\n",
       "      <td>10</td>\n",
       "      <td>False</td>\n",
       "      <td>False</td>\n",
       "    </tr>\n",
       "    <tr>\n",
       "      <th>3</th>\n",
       "      <td>mapped_to</td>\n",
       "      <td>540915</td>\n",
       "      <td>9</td>\n",
       "      <td>False</td>\n",
       "      <td>False</td>\n",
       "    </tr>\n",
       "    <tr>\n",
       "      <th>4</th>\n",
       "      <td>mapped_from</td>\n",
       "      <td>440202</td>\n",
       "      <td>11</td>\n",
       "      <td>False</td>\n",
       "      <td>False</td>\n",
       "    </tr>\n",
       "    <tr>\n",
       "      <th>6</th>\n",
       "      <td>inactive_ingredient_of</td>\n",
       "      <td>393580</td>\n",
       "      <td>22</td>\n",
       "      <td>False</td>\n",
       "      <td>False</td>\n",
       "    </tr>\n",
       "    <tr>\n",
       "      <th>5</th>\n",
       "      <td>has_inactive_ingredient</td>\n",
       "      <td>393580</td>\n",
       "      <td>23</td>\n",
       "      <td>False</td>\n",
       "      <td>True</td>\n",
       "    </tr>\n",
       "    <tr>\n",
       "      <th>7</th>\n",
       "      <td>ingredient_of</td>\n",
       "      <td>274003</td>\n",
       "      <td>13</td>\n",
       "      <td>False</td>\n",
       "      <td>False</td>\n",
       "    </tr>\n",
       "    <tr>\n",
       "      <th>8</th>\n",
       "      <td>has_ingredient</td>\n",
       "      <td>274003</td>\n",
       "      <td>14</td>\n",
       "      <td>False</td>\n",
       "      <td>True</td>\n",
       "    </tr>\n",
       "    <tr>\n",
       "      <th>9</th>\n",
       "      <td>classifies</td>\n",
       "      <td>254824</td>\n",
       "      <td>10</td>\n",
       "      <td>False</td>\n",
       "      <td>False</td>\n",
       "    </tr>\n",
       "    <tr>\n",
       "      <th>10</th>\n",
       "      <td>classified_as</td>\n",
       "      <td>254824</td>\n",
       "      <td>13</td>\n",
       "      <td>False</td>\n",
       "      <td>False</td>\n",
       "    </tr>\n",
       "    <tr>\n",
       "      <th>11</th>\n",
       "      <td>has_component</td>\n",
       "      <td>233584</td>\n",
       "      <td>13</td>\n",
       "      <td>False</td>\n",
       "      <td>True</td>\n",
       "    </tr>\n",
       "    <tr>\n",
       "      <th>12</th>\n",
       "      <td>component_of</td>\n",
       "      <td>225237</td>\n",
       "      <td>12</td>\n",
       "      <td>False</td>\n",
       "      <td>False</td>\n",
       "    </tr>\n",
       "    <tr>\n",
       "      <th>13</th>\n",
       "      <td>has_finding_site</td>\n",
       "      <td>190904</td>\n",
       "      <td>16</td>\n",
       "      <td>False</td>\n",
       "      <td>True</td>\n",
       "    </tr>\n",
       "    <tr>\n",
       "      <th>15</th>\n",
       "      <td>concept_in_subset</td>\n",
       "      <td>175837</td>\n",
       "      <td>17</td>\n",
       "      <td>False</td>\n",
       "      <td>False</td>\n",
       "    </tr>\n",
       "    <tr>\n",
       "      <th>14</th>\n",
       "      <td>subset_includes_concept</td>\n",
       "      <td>175837</td>\n",
       "      <td>23</td>\n",
       "      <td>False</td>\n",
       "      <td>False</td>\n",
       "    </tr>\n",
       "    <tr>\n",
       "      <th>16</th>\n",
       "      <td>has_active_ingredient</td>\n",
       "      <td>158689</td>\n",
       "      <td>21</td>\n",
       "      <td>False</td>\n",
       "      <td>True</td>\n",
       "    </tr>\n",
       "    <tr>\n",
       "      <th>17</th>\n",
       "      <td>active_ingredient_of</td>\n",
       "      <td>145432</td>\n",
       "      <td>20</td>\n",
       "      <td>False</td>\n",
       "      <td>False</td>\n",
       "    </tr>\n",
       "    <tr>\n",
       "      <th>19</th>\n",
       "      <td>active_moiety_of</td>\n",
       "      <td>141967</td>\n",
       "      <td>16</td>\n",
       "      <td>False</td>\n",
       "      <td>False</td>\n",
       "    </tr>\n",
       "    <tr>\n",
       "      <th>18</th>\n",
       "      <td>has_active_moiety</td>\n",
       "      <td>141967</td>\n",
       "      <td>17</td>\n",
       "      <td>False</td>\n",
       "      <td>True</td>\n",
       "    </tr>\n",
       "  </tbody>\n",
       "</table>\n",
       "</div>"
      ],
      "text/plain": [
       "                      index     RELA  len     by    has\n",
       "0                       isa  1725865    3  False  False\n",
       "1               inverse_isa  1174130   11  False  False\n",
       "2                sib_in_isa   545046   10  False  False\n",
       "3                 mapped_to   540915    9  False  False\n",
       "4               mapped_from   440202   11  False  False\n",
       "6    inactive_ingredient_of   393580   22  False  False\n",
       "5   has_inactive_ingredient   393580   23  False   True\n",
       "7             ingredient_of   274003   13  False  False\n",
       "8            has_ingredient   274003   14  False   True\n",
       "9                classifies   254824   10  False  False\n",
       "10            classified_as   254824   13  False  False\n",
       "11            has_component   233584   13  False   True\n",
       "12             component_of   225237   12  False  False\n",
       "13         has_finding_site   190904   16  False   True\n",
       "15        concept_in_subset   175837   17  False  False\n",
       "14  subset_includes_concept   175837   23  False  False\n",
       "16    has_active_ingredient   158689   21  False   True\n",
       "17     active_ingredient_of   145432   20  False  False\n",
       "19         active_moiety_of   141967   16  False  False\n",
       "18        has_active_moiety   141967   17  False   True"
      ]
     },
     "execution_count": 34,
     "metadata": {},
     "output_type": "execute_result"
    }
   ],
   "source": [
    "rels_order.head(20)"
   ]
  },
  {
   "cell_type": "code",
   "execution_count": 35,
   "metadata": {
    "scrolled": true
   },
   "outputs": [
    {
     "data": {
      "text/plain": [
       "441"
      ]
     },
     "execution_count": 35,
     "metadata": {},
     "output_type": "execute_result"
    }
   ],
   "source": [
    "len(lefts)"
   ]
  },
  {
   "cell_type": "code",
   "execution_count": 36,
   "metadata": {
    "scrolled": false
   },
   "outputs": [],
   "source": [
    "# lefts"
   ]
  },
  {
   "cell_type": "code",
   "execution_count": 37,
   "metadata": {},
   "outputs": [
    {
     "data": {
      "text/plain": [
       "0"
      ]
     },
     "execution_count": 37,
     "metadata": {},
     "output_type": "execute_result"
    }
   ],
   "source": [
    "55 - 5 - 7 - 13 - 30"
   ]
  },
  {
   "cell_type": "code",
   "execution_count": 38,
   "metadata": {},
   "outputs": [],
   "source": [
    "# lefts2 = lefts.copy()"
   ]
  },
  {
   "cell_type": "code",
   "execution_count": 39,
   "metadata": {},
   "outputs": [],
   "source": [
    "# lefts2 - lefts"
   ]
  },
  {
   "cell_type": "code",
   "execution_count": 40,
   "metadata": {},
   "outputs": [],
   "source": [
    "# lefts - lefts2"
   ]
  },
  {
   "cell_type": "markdown",
   "metadata": {},
   "source": [
    "### Only use 25 important relations from SemRep: https://bmcbioinformatics.biomedcentral.com/articles/10.1186/s12859-020-3517-7"
   ]
  },
  {
   "cell_type": "markdown",
   "metadata": {},
   "source": [
    "The semnatic types in semantic networks are different from relation attributes in RELA"
   ]
  },
  {
   "cell_type": "code",
   "execution_count": 41,
   "metadata": {},
   "outputs": [],
   "source": [
    "# chose_rels = [i.strip().lower() for i in '''ADMINISTERED_TO | AFFECTS | ASSOCIATED_WITH |\n",
    "# \t          AUGMENTS | CAUSES | COEXISTS_WITH | CONVERTS_TO |\n",
    "# \t          COMPLICATES | DIAGNOSES | DISRUPTS | INHIBITS |\n",
    "# \t          INTERACTS_WITH | ISA | LOCATION_OF | MANIFESTATION_OF | \n",
    "# \t          METHOD_OF | OCCURS_IN | PART_OF | PRECEDES|\n",
    "# \t          PREDISPOSES | PREVENTS | PROCESS_OF | PRODUCES | \n",
    "# \t          STIMULATES | TREATS | USES | \n",
    "# \t          compared_with | higher_than | lower_than | same_as''' .split('|')]\n"
   ]
  },
  {
   "cell_type": "code",
   "execution_count": 42,
   "metadata": {},
   "outputs": [],
   "source": [
    "# len(chose_rels)"
   ]
  },
  {
   "cell_type": "code",
   "execution_count": 43,
   "metadata": {},
   "outputs": [],
   "source": [
    "# chose_rels"
   ]
  },
  {
   "cell_type": "code",
   "execution_count": 44,
   "metadata": {},
   "outputs": [],
   "source": [
    "# set(chose_rels) - set(lefts)"
   ]
  },
  {
   "cell_type": "code",
   "execution_count": null,
   "metadata": {},
   "outputs": [],
   "source": []
  },
  {
   "cell_type": "markdown",
   "metadata": {},
   "source": [
    "#### No change on pair size after removing right directions"
   ]
  },
  {
   "cell_type": "code",
   "execution_count": 45,
   "metadata": {},
   "outputs": [
    {
     "data": {
      "text/plain": [
       "7363893"
      ]
     },
     "execution_count": 45,
     "metadata": {},
     "output_type": "execute_result"
    }
   ],
   "source": [
    "df['pair'].nunique()"
   ]
  },
  {
   "cell_type": "code",
   "execution_count": 46,
   "metadata": {},
   "outputs": [],
   "source": [
    "df2 = df.copy()"
   ]
  },
  {
   "cell_type": "code",
   "execution_count": 47,
   "metadata": {},
   "outputs": [
    {
     "data": {
      "text/plain": [
       "7363893"
      ]
     },
     "execution_count": 47,
     "metadata": {},
     "output_type": "execute_result"
    }
   ],
   "source": [
    "df[df['RELA'].isin(lefts)]['pair'].nunique()"
   ]
  },
  {
   "cell_type": "code",
   "execution_count": 48,
   "metadata": {},
   "outputs": [
    {
     "data": {
      "text/plain": [
       "(8377727, 18)"
      ]
     },
     "execution_count": 48,
     "metadata": {},
     "output_type": "execute_result"
    }
   ],
   "source": [
    "df[df['RELA'].isin(lefts)].shape"
   ]
  },
  {
   "cell_type": "code",
   "execution_count": 128,
   "metadata": {},
   "outputs": [],
   "source": [
    "# dirs = df[df['DIR']=='Y']['RELA'].unique()\n",
    "# inv_dirs = relas[relas['VALUE'].isin(dirs)]['EXPL'].unique()\n",
    "# sys_dirs = relas[relas['VALUE']==relas['EXPL']]['VALUE'].unique()"
   ]
  },
  {
   "cell_type": "code",
   "execution_count": 49,
   "metadata": {},
   "outputs": [],
   "source": [
    "df = df[df['RELA'].isin(lefts)]"
   ]
  },
  {
   "cell_type": "code",
   "execution_count": 130,
   "metadata": {},
   "outputs": [
    {
     "data": {
      "text/plain": [
       "(8377727, 18)"
      ]
     },
     "execution_count": 130,
     "metadata": {},
     "output_type": "execute_result"
    }
   ],
   "source": [
    "df.shape"
   ]
  },
  {
   "cell_type": "markdown",
   "metadata": {},
   "source": [
    "#### remove duplications in symmetrical pairs such as sib_in_isa"
   ]
  },
  {
   "cell_type": "code",
   "execution_count": 51,
   "metadata": {},
   "outputs": [],
   "source": [
    "df = df.drop_duplicates(['pair', 'RELA'], keep='first')"
   ]
  },
  {
   "cell_type": "code",
   "execution_count": 53,
   "metadata": {},
   "outputs": [
    {
     "data": {
      "text/plain": [
       "(7926419, 18)"
      ]
     },
     "execution_count": 53,
     "metadata": {},
     "output_type": "execute_result"
    }
   ],
   "source": [
    "df.shape"
   ]
  },
  {
   "cell_type": "code",
   "execution_count": 54,
   "metadata": {},
   "outputs": [
    {
     "data": {
      "text/plain": [
       "7363893"
      ]
     },
     "execution_count": 54,
     "metadata": {},
     "output_type": "execute_result"
    }
   ],
   "source": [
    "df['pair'].nunique()"
   ]
  },
  {
   "cell_type": "code",
   "execution_count": 133,
   "metadata": {},
   "outputs": [
    {
     "data": {
      "text/plain": [
       "7363893"
      ]
     },
     "execution_count": 133,
     "metadata": {},
     "output_type": "execute_result"
    }
   ],
   "source": [
    "df['pair'].nunique()"
   ]
  },
  {
   "cell_type": "code",
   "execution_count": 55,
   "metadata": {},
   "outputs": [
    {
     "data": {
      "text/plain": [
       "441"
      ]
     },
     "execution_count": 55,
     "metadata": {},
     "output_type": "execute_result"
    }
   ],
   "source": [
    "df['RELA'].nunique()"
   ]
  },
  {
   "cell_type": "markdown",
   "metadata": {},
   "source": [
    "### Some CUI pairs have multiple relations, so combine them together as a single relationships or multiple label classifications"
   ]
  },
  {
   "cell_type": "code",
   "execution_count": 64,
   "metadata": {},
   "outputs": [],
   "source": [
    "# df = df2"
   ]
  },
  {
   "cell_type": "code",
   "execution_count": 56,
   "metadata": {},
   "outputs": [],
   "source": [
    "pair_counts = df.groupby(['pair'])['id'].count().reset_index()"
   ]
  },
  {
   "cell_type": "code",
   "execution_count": 57,
   "metadata": {},
   "outputs": [],
   "source": [
    "# pair_counts.head()"
   ]
  },
  {
   "cell_type": "code",
   "execution_count": 58,
   "metadata": {},
   "outputs": [
    {
     "data": {
      "text/plain": [
       "1    6861886\n",
       "2     457977\n",
       "3      33671\n",
       "4       6317\n",
       "5       2323\n",
       "6       1353\n",
       "7        363\n",
       "8          3\n",
       "Name: id, dtype: int64"
      ]
     },
     "execution_count": 58,
     "metadata": {},
     "output_type": "execute_result"
    }
   ],
   "source": [
    "pair_counts['id'].value_counts()"
   ]
  },
  {
   "cell_type": "markdown",
   "metadata": {},
   "source": [
    "#### Single-relation pairs"
   ]
  },
  {
   "cell_type": "code",
   "execution_count": 59,
   "metadata": {},
   "outputs": [
    {
     "data": {
      "text/plain": [
       "0.8656981166400616"
      ]
     },
     "execution_count": 59,
     "metadata": {},
     "output_type": "execute_result"
    }
   ],
   "source": [
    "6861886/(df['id'].nunique())"
   ]
  },
  {
   "cell_type": "code",
   "execution_count": 60,
   "metadata": {},
   "outputs": [],
   "source": [
    "# pair_counts[pair_counts['id']==7]"
   ]
  },
  {
   "cell_type": "code",
   "execution_count": 61,
   "metadata": {},
   "outputs": [],
   "source": [
    "# df[df.duplicated(subset=['CUI1','CUI2'], keep=False)]"
   ]
  },
  {
   "cell_type": "code",
   "execution_count": 62,
   "metadata": {},
   "outputs": [
    {
     "data": {
      "text/html": [
       "<div>\n",
       "<style scoped>\n",
       "    .dataframe tbody tr th:only-of-type {\n",
       "        vertical-align: middle;\n",
       "    }\n",
       "\n",
       "    .dataframe tbody tr th {\n",
       "        vertical-align: top;\n",
       "    }\n",
       "\n",
       "    .dataframe thead th {\n",
       "        text-align: right;\n",
       "    }\n",
       "</style>\n",
       "<table border=\"1\" class=\"dataframe\">\n",
       "  <thead>\n",
       "    <tr style=\"text-align: right;\">\n",
       "      <th></th>\n",
       "      <th>CUI1</th>\n",
       "      <th>AUI1</th>\n",
       "      <th>STYPE1</th>\n",
       "      <th>REL</th>\n",
       "      <th>CUI2</th>\n",
       "      <th>AUI2</th>\n",
       "      <th>STYPE2</th>\n",
       "      <th>RELA</th>\n",
       "      <th>RUI</th>\n",
       "      <th>SRUI</th>\n",
       "      <th>SAB</th>\n",
       "      <th>SL</th>\n",
       "      <th>RG</th>\n",
       "      <th>DIR</th>\n",
       "      <th>SUPPRESS</th>\n",
       "      <th>CVF</th>\n",
       "      <th>id</th>\n",
       "      <th>pair</th>\n",
       "    </tr>\n",
       "  </thead>\n",
       "  <tbody>\n",
       "    <tr>\n",
       "      <th>76314</th>\n",
       "      <td>C0002403</td>\n",
       "      <td>A2878327</td>\n",
       "      <td>SCUI</td>\n",
       "      <td>RO</td>\n",
       "      <td>C0936072</td>\n",
       "      <td>A13900951</td>\n",
       "      <td>SCUI</td>\n",
       "      <td>has_active_ingredient</td>\n",
       "      <td>R126262215</td>\n",
       "      <td>NaN</td>\n",
       "      <td>MEDCIN</td>\n",
       "      <td>MEDCIN</td>\n",
       "      <td>NaN</td>\n",
       "      <td>NaN</td>\n",
       "      <td>N</td>\n",
       "      <td>NaN</td>\n",
       "      <td>76314</td>\n",
       "      <td>C0002403-C0936072</td>\n",
       "    </tr>\n",
       "    <tr>\n",
       "      <th>76315</th>\n",
       "      <td>C0002403</td>\n",
       "      <td>A29506299</td>\n",
       "      <td>SCUI</td>\n",
       "      <td>RO</td>\n",
       "      <td>C0936072</td>\n",
       "      <td>A22812364</td>\n",
       "      <td>SCUI</td>\n",
       "      <td>replaced_by</td>\n",
       "      <td>R141855271</td>\n",
       "      <td>38b1bbb0-b4c2-573b-8fd1-5e502a4c9ec8</td>\n",
       "      <td>SNOMEDCT_US</td>\n",
       "      <td>SNOMEDCT_US</td>\n",
       "      <td>NaN</td>\n",
       "      <td>Y</td>\n",
       "      <td>N</td>\n",
       "      <td>NaN</td>\n",
       "      <td>76315</td>\n",
       "      <td>C0002403-C0936072</td>\n",
       "    </tr>\n",
       "    <tr>\n",
       "      <th>76316</th>\n",
       "      <td>C0002403</td>\n",
       "      <td>A29506299</td>\n",
       "      <td>SCUI</td>\n",
       "      <td>SY</td>\n",
       "      <td>C0936072</td>\n",
       "      <td>A23052165</td>\n",
       "      <td>SCUI</td>\n",
       "      <td>same_as</td>\n",
       "      <td>R142499659</td>\n",
       "      <td>a21e4e78-aab8-5ec4-859d-078d79cb2cf3</td>\n",
       "      <td>SNOMEDCT_US</td>\n",
       "      <td>SNOMEDCT_US</td>\n",
       "      <td>NaN</td>\n",
       "      <td>Y</td>\n",
       "      <td>N</td>\n",
       "      <td>NaN</td>\n",
       "      <td>76316</td>\n",
       "      <td>C0002403-C0936072</td>\n",
       "    </tr>\n",
       "    <tr>\n",
       "      <th>76317</th>\n",
       "      <td>C0002403</td>\n",
       "      <td>A29506299</td>\n",
       "      <td>SCUI</td>\n",
       "      <td>RN</td>\n",
       "      <td>C0936072</td>\n",
       "      <td>A13900951</td>\n",
       "      <td>SCUI</td>\n",
       "      <td>isa</td>\n",
       "      <td>R150123625</td>\n",
       "      <td>NaN</td>\n",
       "      <td>MEDCIN</td>\n",
       "      <td>MEDCIN</td>\n",
       "      <td>NaN</td>\n",
       "      <td>NaN</td>\n",
       "      <td>N</td>\n",
       "      <td>NaN</td>\n",
       "      <td>76317</td>\n",
       "      <td>C0002403-C0936072</td>\n",
       "    </tr>\n",
       "    <tr>\n",
       "      <th>76319</th>\n",
       "      <td>C0002403</td>\n",
       "      <td>A2878327</td>\n",
       "      <td>SCUI</td>\n",
       "      <td>RO</td>\n",
       "      <td>C0936072</td>\n",
       "      <td>A2990781</td>\n",
       "      <td>SCUI</td>\n",
       "      <td>is_modification_of</td>\n",
       "      <td>R179114224</td>\n",
       "      <td>9247066020</td>\n",
       "      <td>SNOMEDCT_US</td>\n",
       "      <td>SNOMEDCT_US</td>\n",
       "      <td>0.0</td>\n",
       "      <td>Y</td>\n",
       "      <td>N</td>\n",
       "      <td>NaN</td>\n",
       "      <td>76319</td>\n",
       "      <td>C0002403-C0936072</td>\n",
       "    </tr>\n",
       "    <tr>\n",
       "      <th>76320</th>\n",
       "      <td>C0002403</td>\n",
       "      <td>A10334614</td>\n",
       "      <td>SCUI</td>\n",
       "      <td>RN</td>\n",
       "      <td>C0936072</td>\n",
       "      <td>A16788376</td>\n",
       "      <td>SCUI</td>\n",
       "      <td>form_of</td>\n",
       "      <td>R45060343</td>\n",
       "      <td>NaN</td>\n",
       "      <td>RXNORM</td>\n",
       "      <td>RXNORM</td>\n",
       "      <td>NaN</td>\n",
       "      <td>NaN</td>\n",
       "      <td>N</td>\n",
       "      <td>4096.0</td>\n",
       "      <td>76320</td>\n",
       "      <td>C0002403-C0936072</td>\n",
       "    </tr>\n",
       "  </tbody>\n",
       "</table>\n",
       "</div>"
      ],
      "text/plain": [
       "           CUI1       AUI1 STYPE1 REL      CUI2       AUI2 STYPE2  \\\n",
       "76314  C0002403   A2878327   SCUI  RO  C0936072  A13900951   SCUI   \n",
       "76315  C0002403  A29506299   SCUI  RO  C0936072  A22812364   SCUI   \n",
       "76316  C0002403  A29506299   SCUI  SY  C0936072  A23052165   SCUI   \n",
       "76317  C0002403  A29506299   SCUI  RN  C0936072  A13900951   SCUI   \n",
       "76319  C0002403   A2878327   SCUI  RO  C0936072   A2990781   SCUI   \n",
       "76320  C0002403  A10334614   SCUI  RN  C0936072  A16788376   SCUI   \n",
       "\n",
       "                        RELA         RUI  \\\n",
       "76314  has_active_ingredient  R126262215   \n",
       "76315            replaced_by  R141855271   \n",
       "76316                same_as  R142499659   \n",
       "76317                    isa  R150123625   \n",
       "76319     is_modification_of  R179114224   \n",
       "76320                form_of   R45060343   \n",
       "\n",
       "                                       SRUI          SAB           SL   RG  \\\n",
       "76314                                   NaN       MEDCIN       MEDCIN  NaN   \n",
       "76315  38b1bbb0-b4c2-573b-8fd1-5e502a4c9ec8  SNOMEDCT_US  SNOMEDCT_US  NaN   \n",
       "76316  a21e4e78-aab8-5ec4-859d-078d79cb2cf3  SNOMEDCT_US  SNOMEDCT_US  NaN   \n",
       "76317                                   NaN       MEDCIN       MEDCIN  NaN   \n",
       "76319                            9247066020  SNOMEDCT_US  SNOMEDCT_US  0.0   \n",
       "76320                                   NaN       RXNORM       RXNORM  NaN   \n",
       "\n",
       "       DIR SUPPRESS     CVF     id               pair  \n",
       "76314  NaN        N     NaN  76314  C0002403-C0936072  \n",
       "76315    Y        N     NaN  76315  C0002403-C0936072  \n",
       "76316    Y        N     NaN  76316  C0002403-C0936072  \n",
       "76317  NaN        N     NaN  76317  C0002403-C0936072  \n",
       "76319    Y        N     NaN  76319  C0002403-C0936072  \n",
       "76320  NaN        N  4096.0  76320  C0002403-C0936072  "
      ]
     },
     "execution_count": 62,
     "metadata": {},
     "output_type": "execute_result"
    }
   ],
   "source": [
    "df[(df['CUI1']=='C0002403') &  (df['CUI2']=='C0936072')]"
   ]
  },
  {
   "cell_type": "code",
   "execution_count": 48,
   "metadata": {},
   "outputs": [],
   "source": [
    "pair_counts = pair_counts[pair_counts['id'] == 1]"
   ]
  },
  {
   "cell_type": "code",
   "execution_count": 49,
   "metadata": {},
   "outputs": [
    {
     "data": {
      "text/plain": [
       "1    6861886\n",
       "Name: id, dtype: int64"
      ]
     },
     "execution_count": 49,
     "metadata": {},
     "output_type": "execute_result"
    }
   ],
   "source": [
    "pair_counts['id'].value_counts()"
   ]
  },
  {
   "cell_type": "code",
   "execution_count": 50,
   "metadata": {},
   "outputs": [],
   "source": [
    "pair_counts = pair_counts.drop(columns=['id'])"
   ]
  },
  {
   "cell_type": "code",
   "execution_count": 51,
   "metadata": {},
   "outputs": [
    {
     "data": {
      "text/plain": [
       "(7926419, 18)"
      ]
     },
     "execution_count": 51,
     "metadata": {},
     "output_type": "execute_result"
    }
   ],
   "source": [
    "df.shape"
   ]
  },
  {
   "cell_type": "code",
   "execution_count": 157,
   "metadata": {},
   "outputs": [],
   "source": [
    "# df2 = df"
   ]
  },
  {
   "cell_type": "code",
   "execution_count": 158,
   "metadata": {},
   "outputs": [],
   "source": [
    "# df2.shape"
   ]
  },
  {
   "cell_type": "code",
   "execution_count": 159,
   "metadata": {},
   "outputs": [],
   "source": [
    "# df = df2.merge(pair_counts, how=\"inner\", left_on=[\"pair\"], right_on=[\"pair\"])"
   ]
  },
  {
   "cell_type": "code",
   "execution_count": 160,
   "metadata": {},
   "outputs": [],
   "source": [
    "# df.shape"
   ]
  },
  {
   "cell_type": "code",
   "execution_count": 56,
   "metadata": {},
   "outputs": [],
   "source": [
    "# df.head()"
   ]
  },
  {
   "cell_type": "code",
   "execution_count": 161,
   "metadata": {},
   "outputs": [],
   "source": [
    "# df.groupby(['CUI1','CUI2'])['id'].count().reset_index()['id'].value_counts()"
   ]
  },
  {
   "cell_type": "code",
   "execution_count": null,
   "metadata": {},
   "outputs": [],
   "source": []
  },
  {
   "cell_type": "markdown",
   "metadata": {},
   "source": [
    "### Some inverse pairs do not have inverse relations"
   ]
  },
  {
   "cell_type": "code",
   "execution_count": 58,
   "metadata": {},
   "outputs": [],
   "source": [
    "# pair_counts = df.groupby(['pair'])['id'].count().reset_index()"
   ]
  },
  {
   "cell_type": "code",
   "execution_count": 59,
   "metadata": {},
   "outputs": [],
   "source": [
    "# pair_counts['id'].value_counts()"
   ]
  },
  {
   "cell_type": "code",
   "execution_count": 60,
   "metadata": {},
   "outputs": [],
   "source": [
    "# pair_counts[pair_counts['id']==2]"
   ]
  },
  {
   "cell_type": "code",
   "execution_count": 61,
   "metadata": {},
   "outputs": [],
   "source": [
    "# df[df['pair']=='C0000294-C0721681']"
   ]
  },
  {
   "cell_type": "code",
   "execution_count": 62,
   "metadata": {},
   "outputs": [],
   "source": [
    "# pair_counts"
   ]
  },
  {
   "cell_type": "code",
   "execution_count": null,
   "metadata": {},
   "outputs": [],
   "source": []
  },
  {
   "cell_type": "code",
   "execution_count": null,
   "metadata": {},
   "outputs": [],
   "source": []
  },
  {
   "cell_type": "code",
   "execution_count": 63,
   "metadata": {},
   "outputs": [],
   "source": [
    "# rel_counts = (df.groupby(['RELA'])['id'].count().reset_index().sort_values('id', ascending=False))"
   ]
  },
  {
   "cell_type": "code",
   "execution_count": 66,
   "metadata": {},
   "outputs": [],
   "source": [
    "plt.rcParams['figure.figsize'] = [16.0, 10.0]"
   ]
  },
  {
   "cell_type": "code",
   "execution_count": 67,
   "metadata": {},
   "outputs": [],
   "source": [
    "common_relas = pd.value_counts(df['RELA']).iloc[:50].index"
   ]
  },
  {
   "cell_type": "code",
   "execution_count": 68,
   "metadata": {},
   "outputs": [
    {
     "data": {
      "image/png": "[encoded data removed]",
      "text/plain": [
       "<Figure size 1152x720 with 1 Axes>"
      ]
     },
     "metadata": {
      "needs_background": "light"
     },
     "output_type": "display_data"
    }
   ],
   "source": [
    "sns.countplot(x=\"RELA\", data=df, order=common_relas)\n",
    "plt.xticks(rotation=90)\n",
    "plt.show()"
   ]
  },
  {
   "cell_type": "code",
   "execution_count": 69,
   "metadata": {
    "scrolled": false
   },
   "outputs": [
    {
     "data": {
      "image/png": "[encoded data removed]",
      "text/plain": [
       "<Figure size 1152x720 with 1 Axes>"
      ]
     },
     "metadata": {
      "needs_background": "light"
     },
     "output_type": "display_data"
    }
   ],
   "source": [
    "sns.countplot(x=\"SAB\", data=df, order=pd.value_counts(df['SAB']).index)\n",
    "plt.xticks(rotation=90)\n",
    "plt.show()"
   ]
  },
  {
   "cell_type": "code",
   "execution_count": 162,
   "metadata": {},
   "outputs": [],
   "source": [
    "mt_counts = df[df['RELA'].isin(common_relas)].groupby(['SAB','RELA'])['id'].count().reset_index()"
   ]
  },
  {
   "cell_type": "code",
   "execution_count": 163,
   "metadata": {},
   "outputs": [
    {
     "data": {
      "text/html": [
       "<div>\n",
       "<style scoped>\n",
       "    .dataframe tbody tr th:only-of-type {\n",
       "        vertical-align: middle;\n",
       "    }\n",
       "\n",
       "    .dataframe tbody tr th {\n",
       "        vertical-align: top;\n",
       "    }\n",
       "\n",
       "    .dataframe thead th {\n",
       "        text-align: right;\n",
       "    }\n",
       "</style>\n",
       "<table border=\"1\" class=\"dataframe\">\n",
       "  <thead>\n",
       "    <tr style=\"text-align: right;\">\n",
       "      <th></th>\n",
       "      <th>SAB</th>\n",
       "      <th>RELA</th>\n",
       "      <th>id</th>\n",
       "    </tr>\n",
       "  </thead>\n",
       "  <tbody>\n",
       "    <tr>\n",
       "      <th>0</th>\n",
       "      <td>ATC</td>\n",
       "      <td>isa</td>\n",
       "      <td>1161</td>\n",
       "    </tr>\n",
       "    <tr>\n",
       "      <th>1</th>\n",
       "      <td>ATC</td>\n",
       "      <td>member_of</td>\n",
       "      <td>4884</td>\n",
       "    </tr>\n",
       "    <tr>\n",
       "      <th>2</th>\n",
       "      <td>CCS</td>\n",
       "      <td>classifies</td>\n",
       "      <td>21944</td>\n",
       "    </tr>\n",
       "    <tr>\n",
       "      <th>3</th>\n",
       "      <td>CCS_10</td>\n",
       "      <td>classifies</td>\n",
       "      <td>201868</td>\n",
       "    </tr>\n",
       "    <tr>\n",
       "      <th>4</th>\n",
       "      <td>CPM</td>\n",
       "      <td>isa</td>\n",
       "      <td>3827</td>\n",
       "    </tr>\n",
       "  </tbody>\n",
       "</table>\n",
       "</div>"
      ],
      "text/plain": [
       "      SAB        RELA      id\n",
       "0     ATC         isa    1161\n",
       "1     ATC   member_of    4884\n",
       "2     CCS  classifies   21944\n",
       "3  CCS_10  classifies  201868\n",
       "4     CPM         isa    3827"
      ]
     },
     "execution_count": 163,
     "metadata": {},
     "output_type": "execute_result"
    }
   ],
   "source": [
    "mt_counts.head()"
   ]
  },
  {
   "cell_type": "code",
   "execution_count": 164,
   "metadata": {
    "scrolled": false
   },
   "outputs": [
    {
     "data": {
      "image/png": "[encoded data removed]",
      "text/plain": [
       "<Figure size 1152x720 with 2 Axes>"
      ]
     },
     "metadata": {
      "needs_background": "light"
     },
     "output_type": "display_data"
    }
   ],
   "source": [
    "flights = mt_counts.pivot('SAB', 'RELA', 'id')\n",
    "sns.heatmap(flights)\n",
    "plt.show()\n",
    "# plt.savefig('data/')"
   ]
  },
  {
   "cell_type": "markdown",
   "metadata": {},
   "source": [
    "### Export results"
   ]
  },
  {
   "cell_type": "markdown",
   "metadata": {},
   "source": [
    "### The directionality of a relationship row is interpreted left-to-right in SNOMED CT but right-to-left in the Metathesaurus. This means that ConceptId1 in the RELATIONSHIPS table will correspond to AUI2/CUI2 in MRREL.RRF (or MRREL)."
   ]
  },
  {
   "cell_type": "code",
   "execution_count": 71,
   "metadata": {},
   "outputs": [],
   "source": [
    "df['nature_pair'] = df['CUI2'].astype(str) + '-' + df['CUI1'].astype(str)"
   ]
  },
  {
   "cell_type": "code",
   "execution_count": 72,
   "metadata": {},
   "outputs": [
    {
     "data": {
      "text/plain": [
       "(7926419, 19)"
      ]
     },
     "execution_count": 72,
     "metadata": {},
     "output_type": "execute_result"
    }
   ],
   "source": [
    "df.shape"
   ]
  },
  {
   "cell_type": "code",
   "execution_count": 73,
   "metadata": {},
   "outputs": [],
   "source": [
    "# df.head()"
   ]
  },
  {
   "cell_type": "code",
   "execution_count": 73,
   "metadata": {},
   "outputs": [],
   "source": [
    "df['direction'] = 'N'\n",
    "df.loc[df['nature_pair']==df['pair'], 'direction'] = 'Y'"
   ]
  },
  {
   "cell_type": "code",
   "execution_count": 75,
   "metadata": {},
   "outputs": [],
   "source": [
    "# df.head()"
   ]
  },
  {
   "cell_type": "code",
   "execution_count": 76,
   "metadata": {},
   "outputs": [
    {
     "data": {
      "text/plain": [
       "(6861886, 20)"
      ]
     },
     "execution_count": 76,
     "metadata": {},
     "output_type": "execute_result"
    }
   ],
   "source": [
    "df.shape"
   ]
  },
  {
   "cell_type": "code",
   "execution_count": 77,
   "metadata": {},
   "outputs": [
    {
     "data": {
      "text/plain": [
       "6861886"
      ]
     },
     "execution_count": 77,
     "metadata": {},
     "output_type": "execute_result"
    }
   ],
   "source": [
    "df['pair'].nunique()"
   ]
  },
  {
   "cell_type": "code",
   "execution_count": null,
   "metadata": {},
   "outputs": [],
   "source": []
  },
  {
   "cell_type": "code",
   "execution_count": 75,
   "metadata": {},
   "outputs": [
    {
     "data": {
      "text/plain": [
       "(7926419, 20)"
      ]
     },
     "execution_count": 75,
     "metadata": {},
     "output_type": "execute_result"
    }
   ],
   "source": [
    "df.shape"
   ]
  },
  {
   "cell_type": "code",
   "execution_count": 76,
   "metadata": {},
   "outputs": [
    {
     "data": {
      "text/plain": [
       "(14548762, 18)"
      ]
     },
     "execution_count": 76,
     "metadata": {},
     "output_type": "execute_result"
    }
   ],
   "source": [
    "df2.shape"
   ]
  },
  {
   "cell_type": "code",
   "execution_count": 77,
   "metadata": {},
   "outputs": [
    {
     "data": {
      "text/html": [
       "<div>\n",
       "<style scoped>\n",
       "    .dataframe tbody tr th:only-of-type {\n",
       "        vertical-align: middle;\n",
       "    }\n",
       "\n",
       "    .dataframe tbody tr th {\n",
       "        vertical-align: top;\n",
       "    }\n",
       "\n",
       "    .dataframe thead th {\n",
       "        text-align: right;\n",
       "    }\n",
       "</style>\n",
       "<table border=\"1\" class=\"dataframe\">\n",
       "  <thead>\n",
       "    <tr style=\"text-align: right;\">\n",
       "      <th></th>\n",
       "      <th>CUI1</th>\n",
       "      <th>AUI1</th>\n",
       "      <th>STYPE1</th>\n",
       "      <th>REL</th>\n",
       "      <th>CUI2</th>\n",
       "      <th>AUI2</th>\n",
       "      <th>STYPE2</th>\n",
       "      <th>RELA</th>\n",
       "      <th>RUI</th>\n",
       "      <th>SRUI</th>\n",
       "      <th>SAB</th>\n",
       "      <th>SL</th>\n",
       "      <th>RG</th>\n",
       "      <th>DIR</th>\n",
       "      <th>SUPPRESS</th>\n",
       "      <th>CVF</th>\n",
       "      <th>id</th>\n",
       "      <th>pair</th>\n",
       "      <th>nature_pair</th>\n",
       "      <th>direction</th>\n",
       "    </tr>\n",
       "  </thead>\n",
       "  <tbody>\n",
       "    <tr>\n",
       "      <th>0</th>\n",
       "      <td>C0000039</td>\n",
       "      <td>A0016515</td>\n",
       "      <td>SDUI</td>\n",
       "      <td>RN</td>\n",
       "      <td>C0043950</td>\n",
       "      <td>A0137399</td>\n",
       "      <td>SDUI</td>\n",
       "      <td>mapped_to</td>\n",
       "      <td>R148171650</td>\n",
       "      <td>NaN</td>\n",
       "      <td>MSH</td>\n",
       "      <td>MSH</td>\n",
       "      <td>1.0</td>\n",
       "      <td>NaN</td>\n",
       "      <td>N</td>\n",
       "      <td>NaN</td>\n",
       "      <td>0</td>\n",
       "      <td>C0000039-C0043950</td>\n",
       "      <td>C0043950-C0000039</td>\n",
       "      <td>N</td>\n",
       "    </tr>\n",
       "    <tr>\n",
       "      <th>1</th>\n",
       "      <td>C0000039</td>\n",
       "      <td>A0016515</td>\n",
       "      <td>SDUI</td>\n",
       "      <td>RN</td>\n",
       "      <td>C0216971</td>\n",
       "      <td>A0376033</td>\n",
       "      <td>SDUI</td>\n",
       "      <td>mapped_to</td>\n",
       "      <td>R148183528</td>\n",
       "      <td>NaN</td>\n",
       "      <td>MSH</td>\n",
       "      <td>MSH</td>\n",
       "      <td>1.0</td>\n",
       "      <td>NaN</td>\n",
       "      <td>N</td>\n",
       "      <td>NaN</td>\n",
       "      <td>1</td>\n",
       "      <td>C0000039-C0216971</td>\n",
       "      <td>C0216971-C0000039</td>\n",
       "      <td>N</td>\n",
       "    </tr>\n",
       "    <tr>\n",
       "      <th>2</th>\n",
       "      <td>C0000039</td>\n",
       "      <td>A18399186</td>\n",
       "      <td>SCUI</td>\n",
       "      <td>RO</td>\n",
       "      <td>C0364349</td>\n",
       "      <td>A18182073</td>\n",
       "      <td>SCUI</td>\n",
       "      <td>has_component</td>\n",
       "      <td>R165238590</td>\n",
       "      <td>NaN</td>\n",
       "      <td>LNC</td>\n",
       "      <td>LNC</td>\n",
       "      <td>NaN</td>\n",
       "      <td>NaN</td>\n",
       "      <td>N</td>\n",
       "      <td>NaN</td>\n",
       "      <td>2</td>\n",
       "      <td>C0000039-C0364349</td>\n",
       "      <td>C0364349-C0000039</td>\n",
       "      <td>N</td>\n",
       "    </tr>\n",
       "    <tr>\n",
       "      <th>3</th>\n",
       "      <td>C0000039</td>\n",
       "      <td>A23513030</td>\n",
       "      <td>SCUI</td>\n",
       "      <td>RO</td>\n",
       "      <td>C0364349</td>\n",
       "      <td>A18182073</td>\n",
       "      <td>SCUI</td>\n",
       "      <td>measures</td>\n",
       "      <td>R167106427</td>\n",
       "      <td>NaN</td>\n",
       "      <td>LNC</td>\n",
       "      <td>LNC</td>\n",
       "      <td>NaN</td>\n",
       "      <td>NaN</td>\n",
       "      <td>N</td>\n",
       "      <td>NaN</td>\n",
       "      <td>3</td>\n",
       "      <td>C0000039-C0364349</td>\n",
       "      <td>C0364349-C0000039</td>\n",
       "      <td>N</td>\n",
       "    </tr>\n",
       "    <tr>\n",
       "      <th>4</th>\n",
       "      <td>C0000039</td>\n",
       "      <td>A0016515</td>\n",
       "      <td>SDUI</td>\n",
       "      <td>RN</td>\n",
       "      <td>C0381030</td>\n",
       "      <td>A0683149</td>\n",
       "      <td>SDUI</td>\n",
       "      <td>mapped_to</td>\n",
       "      <td>R148166148</td>\n",
       "      <td>NaN</td>\n",
       "      <td>MSH</td>\n",
       "      <td>MSH</td>\n",
       "      <td>1.0</td>\n",
       "      <td>NaN</td>\n",
       "      <td>N</td>\n",
       "      <td>NaN</td>\n",
       "      <td>4</td>\n",
       "      <td>C0000039-C0381030</td>\n",
       "      <td>C0381030-C0000039</td>\n",
       "      <td>N</td>\n",
       "    </tr>\n",
       "  </tbody>\n",
       "</table>\n",
       "</div>"
      ],
      "text/plain": [
       "       CUI1       AUI1 STYPE1 REL      CUI2       AUI2 STYPE2           RELA  \\\n",
       "0  C0000039   A0016515   SDUI  RN  C0043950   A0137399   SDUI      mapped_to   \n",
       "1  C0000039   A0016515   SDUI  RN  C0216971   A0376033   SDUI      mapped_to   \n",
       "2  C0000039  A18399186   SCUI  RO  C0364349  A18182073   SCUI  has_component   \n",
       "3  C0000039  A23513030   SCUI  RO  C0364349  A18182073   SCUI       measures   \n",
       "4  C0000039   A0016515   SDUI  RN  C0381030   A0683149   SDUI      mapped_to   \n",
       "\n",
       "          RUI SRUI  SAB   SL   RG  DIR SUPPRESS  CVF  id               pair  \\\n",
       "0  R148171650  NaN  MSH  MSH  1.0  NaN        N  NaN   0  C0000039-C0043950   \n",
       "1  R148183528  NaN  MSH  MSH  1.0  NaN        N  NaN   1  C0000039-C0216971   \n",
       "2  R165238590  NaN  LNC  LNC  NaN  NaN        N  NaN   2  C0000039-C0364349   \n",
       "3  R167106427  NaN  LNC  LNC  NaN  NaN        N  NaN   3  C0000039-C0364349   \n",
       "4  R148166148  NaN  MSH  MSH  1.0  NaN        N  NaN   4  C0000039-C0381030   \n",
       "\n",
       "         nature_pair direction  \n",
       "0  C0043950-C0000039         N  \n",
       "1  C0216971-C0000039         N  \n",
       "2  C0364349-C0000039         N  \n",
       "3  C0364349-C0000039         N  \n",
       "4  C0381030-C0000039         N  "
      ]
     },
     "execution_count": 77,
     "metadata": {},
     "output_type": "execute_result"
    }
   ],
   "source": [
    "df.head()"
   ]
  },
  {
   "cell_type": "code",
   "execution_count": 78,
   "metadata": {},
   "outputs": [],
   "source": [
    "df.to_csv('data/relations_cleaned.csv', index=None)"
   ]
  },
  {
   "cell_type": "markdown",
   "metadata": {},
   "source": [
    "#### dir: Y means that relations is in the same direction in UMLS, i.e., from right to left in UMLS. N is the opposite direction. The pair is ordered by the alphabetical order of two CUIs"
   ]
  },
  {
   "cell_type": "code",
   "execution_count": 81,
   "metadata": {},
   "outputs": [],
   "source": [
    "res = {}\n",
    "for index, row in df.iterrows():\n",
    "    res[row['pair']] = {'rela':  row['RELA'], 'dir': row['direction'], 'rui': row['RUI']}"
   ]
  },
  {
   "cell_type": "code",
   "execution_count": 82,
   "metadata": {},
   "outputs": [],
   "source": [
    "with open('data/rel_map.json', 'w') as fp:\n",
    "    json.dump(res, fp,  indent=4)"
   ]
  },
  {
   "cell_type": "code",
   "execution_count": null,
   "metadata": {},
   "outputs": [],
   "source": []
  },
  {
   "cell_type": "code",
   "execution_count": null,
   "metadata": {},
   "outputs": [],
   "source": []
  },
  {
   "cell_type": "code",
   "execution_count": null,
   "metadata": {},
   "outputs": [],
   "source": []
  },
  {
   "cell_type": "code",
   "execution_count": null,
   "metadata": {},
   "outputs": [],
   "source": []
  },
  {
   "cell_type": "code",
   "execution_count": null,
   "metadata": {},
   "outputs": [],
   "source": []
  },
  {
   "cell_type": "code",
   "execution_count": null,
   "metadata": {},
   "outputs": [],
   "source": []
  },
  {
   "cell_type": "code",
   "execution_count": null,
   "metadata": {},
   "outputs": [],
   "source": []
  },
  {
   "cell_type": "code",
   "execution_count": null,
   "metadata": {},
   "outputs": [],
   "source": []
  },
  {
   "cell_type": "code",
   "execution_count": null,
   "metadata": {},
   "outputs": [],
   "source": []
  },
  {
   "cell_type": "code",
   "execution_count": null,
   "metadata": {},
   "outputs": [],
   "source": []
  }
 ],
 "metadata": {
  "kernelspec": {
   "display_name": "Python 3 (ipykernel)",
   "language": "python",
   "name": "python3"
  },
  "language_info": {
   "codemirror_mode": {
    "name": "ipython",
    "version": 3
   },
   "file_extension": ".py",
   "mimetype": "text/x-python",
   "name": "python",
   "nbconvert_exporter": "python",
   "pygments_lexer": "ipython3",
   "version": "3.9.12"
  }
 },
 "nbformat": 4,
 "nbformat_minor": 4
}
