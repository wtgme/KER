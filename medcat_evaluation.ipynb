{
 "cells": [
  {
   "cell_type": "code",
   "execution_count": 29,
   "metadata": {},
   "outputs": [],
   "source": [
    "import json\n",
    "import pandas as pd\n",
    "import numpy as np"
   ]
  },
  {
   "cell_type": "code",
   "execution_count": 25,
   "metadata": {},
   "outputs": [],
   "source": [
    "docs_df = pd.read_csv('data/annotate_text.csv')"
   ]
  },
  {
   "cell_type": "code",
   "execution_count": 26,
   "metadata": {},
   "outputs": [
    {
     "data": {
      "text/html": [
       "<div>\n",
       "<style scoped>\n",
       "    .dataframe tbody tr th:only-of-type {\n",
       "        vertical-align: middle;\n",
       "    }\n",
       "\n",
       "    .dataframe tbody tr th {\n",
       "        vertical-align: top;\n",
       "    }\n",
       "\n",
       "    .dataframe thead th {\n",
       "        text-align: right;\n",
       "    }\n",
       "</style>\n",
       "<table border=\"1\" class=\"dataframe\">\n",
       "  <thead>\n",
       "    <tr style=\"text-align: right;\">\n",
       "      <th></th>\n",
       "      <th>row_id</th>\n",
       "      <th>text</th>\n",
       "    </tr>\n",
       "  </thead>\n",
       "  <tbody>\n",
       "    <tr>\n",
       "      <th>0</th>\n",
       "      <td>607526</td>\n",
       "      <td>Chief Complaint:\\n   24 Hour Events:\\n   PEEP ...</td>\n",
       "    </tr>\n",
       "    <tr>\n",
       "      <th>1</th>\n",
       "      <td>685923</td>\n",
       "      <td>The patient is a 28 year old male with a histo...</td>\n",
       "    </tr>\n",
       "    <tr>\n",
       "      <th>2</th>\n",
       "      <td>513639</td>\n",
       "      <td>Gastrointestinal bleed, other (GI Bleed, GIB)\\...</td>\n",
       "    </tr>\n",
       "    <tr>\n",
       "      <th>3</th>\n",
       "      <td>581559</td>\n",
       "      <td>Chief Complaint: hypotension, CHF\\n   I saw an...</td>\n",
       "    </tr>\n",
       "    <tr>\n",
       "      <th>4</th>\n",
       "      <td>685928</td>\n",
       "      <td>Chief Complaint:\\n   24 Hour Events:\\n MULTI L...</td>\n",
       "    </tr>\n",
       "  </tbody>\n",
       "</table>\n",
       "</div>"
      ],
      "text/plain": [
       "   row_id                                               text\n",
       "0  607526  Chief Complaint:\\n   24 Hour Events:\\n   PEEP ...\n",
       "1  685923  The patient is a 28 year old male with a histo...\n",
       "2  513639  Gastrointestinal bleed, other (GI Bleed, GIB)\\...\n",
       "3  581559  Chief Complaint: hypotension, CHF\\n   I saw an...\n",
       "4  685928  Chief Complaint:\\n   24 Hour Events:\\n MULTI L..."
      ]
     },
     "execution_count": 26,
     "metadata": {},
     "output_type": "execute_result"
    }
   ],
   "source": [
    "docs_df.head()"
   ]
  },
  {
   "cell_type": "code",
   "execution_count": 72,
   "metadata": {},
   "outputs": [],
   "source": [
    "data = json.load(open('data/MedCAT_Export_With_Text_2021-05-10_10_28_34.json'))"
   ]
  },
  {
   "cell_type": "code",
   "execution_count": 73,
   "metadata": {},
   "outputs": [],
   "source": [
    "# data['projects'][0]['documents']"
   ]
  },
  {
   "cell_type": "code",
   "execution_count": 74,
   "metadata": {},
   "outputs": [
    {
     "data": {
      "text/plain": [
       "50"
      ]
     },
     "execution_count": 74,
     "metadata": {},
     "output_type": "execute_result"
    }
   ],
   "source": [
    "len(data['projects'][0]['documents'])"
   ]
  },
  {
   "cell_type": "code",
   "execution_count": 75,
   "metadata": {
    "scrolled": true
   },
   "outputs": [],
   "source": [
    "# proj['documents'][0]"
   ]
  },
  {
   "cell_type": "code",
   "execution_count": 76,
   "metadata": {},
   "outputs": [],
   "source": [
    "proj = data['projects'][0]"
   ]
  },
  {
   "cell_type": "code",
   "execution_count": 77,
   "metadata": {},
   "outputs": [],
   "source": [
    "annos = []\n",
    "\n",
    "for doc in proj['documents']:\n",
    "    did = doc['name']\n",
    "\n",
    "    text = doc['text']\n",
    "    for a in doc['annotations']:\n",
    "        if a['validated']:\n",
    "            user = a['user']\n",
    "#             aid = a['id']\n",
    "            aid = str(a['start']) + '-' + str(a['end'])\n",
    "            value = a['value']\n",
    "#                 context = text[a['start']-200:a['end']+200:]\n",
    "            context = text[a['start']-200: a['start']] + ' ******Start****** ' + value + ' ******End****** ' + text[a['end']: a['end']+200]\n",
    "#             print(user)\n",
    "            cui = a['cui']\n",
    "            correct = a['correct']\n",
    "            meta_anns = a['meta_anns']\n",
    "            dia = ''\n",
    "            state = ''\n",
    "            if len(meta_anns) != 0:\n",
    "                if 'Negated' in meta_anns:\n",
    "                    dia = meta_anns['Negated']['value']\n",
    "                if 'Skip' in meta_anns: \n",
    "                    state = meta_anns['Skip']['value']\n",
    "            annos.append([did, aid, value, context, cui, user, correct, dia, state, str(correct) + ' | ' + dia + ' | '+ state])"
   ]
  },
  {
   "cell_type": "code",
   "execution_count": 78,
   "metadata": {},
   "outputs": [],
   "source": [
    "df = pd.DataFrame(annos, columns=['doc_id', 'annotation_id', 'string', 'context', 'cui', 'user', 'correct', 'Negated', 'Skip', 'combine'])"
   ]
  },
  {
   "cell_type": "code",
   "execution_count": 79,
   "metadata": {},
   "outputs": [
    {
     "data": {
      "text/html": [
       "<div>\n",
       "<style scoped>\n",
       "    .dataframe tbody tr th:only-of-type {\n",
       "        vertical-align: middle;\n",
       "    }\n",
       "\n",
       "    .dataframe tbody tr th {\n",
       "        vertical-align: top;\n",
       "    }\n",
       "\n",
       "    .dataframe thead th {\n",
       "        text-align: right;\n",
       "    }\n",
       "</style>\n",
       "<table border=\"1\" class=\"dataframe\">\n",
       "  <thead>\n",
       "    <tr style=\"text-align: right;\">\n",
       "      <th></th>\n",
       "      <th>doc_id</th>\n",
       "      <th>annotation_id</th>\n",
       "      <th>string</th>\n",
       "      <th>context</th>\n",
       "      <th>cui</th>\n",
       "      <th>user</th>\n",
       "      <th>correct</th>\n",
       "      <th>Negated</th>\n",
       "      <th>Skip</th>\n",
       "      <th>combine</th>\n",
       "    </tr>\n",
       "  </thead>\n",
       "  <tbody>\n",
       "    <tr>\n",
       "      <th>count</th>\n",
       "      <td>9953</td>\n",
       "      <td>9953</td>\n",
       "      <td>9953</td>\n",
       "      <td>9953</td>\n",
       "      <td>9953</td>\n",
       "      <td>9953</td>\n",
       "      <td>9953</td>\n",
       "      <td>9953</td>\n",
       "      <td>9953</td>\n",
       "      <td>9953</td>\n",
       "    </tr>\n",
       "    <tr>\n",
       "      <th>unique</th>\n",
       "      <td>50</td>\n",
       "      <td>9353</td>\n",
       "      <td>3650</td>\n",
       "      <td>9950</td>\n",
       "      <td>2292</td>\n",
       "      <td>2</td>\n",
       "      <td>2</td>\n",
       "      <td>4</td>\n",
       "      <td>3</td>\n",
       "      <td>13</td>\n",
       "    </tr>\n",
       "    <tr>\n",
       "      <th>top</th>\n",
       "      <td>Doc 45</td>\n",
       "      <td>0-15</td>\n",
       "      <td>Assessment</td>\n",
       "      <td>******Start****** saw ******End******  and ex...</td>\n",
       "      <td>C1261322</td>\n",
       "      <td>helena</td>\n",
       "      <td>True</td>\n",
       "      <td>No</td>\n",
       "      <td>No</td>\n",
       "      <td>True | No | No</td>\n",
       "    </tr>\n",
       "    <tr>\n",
       "      <th>freq</th>\n",
       "      <td>569</td>\n",
       "      <td>12</td>\n",
       "      <td>89</td>\n",
       "      <td>3</td>\n",
       "      <td>95</td>\n",
       "      <td>9656</td>\n",
       "      <td>8543</td>\n",
       "      <td>8840</td>\n",
       "      <td>8901</td>\n",
       "      <td>7900</td>\n",
       "    </tr>\n",
       "  </tbody>\n",
       "</table>\n",
       "</div>"
      ],
      "text/plain": [
       "        doc_id annotation_id      string  \\\n",
       "count     9953          9953        9953   \n",
       "unique      50          9353        3650   \n",
       "top     Doc 45          0-15  Assessment   \n",
       "freq       569            12          89   \n",
       "\n",
       "                                                  context       cui    user  \\\n",
       "count                                                9953      9953    9953   \n",
       "unique                                               9950      2292       2   \n",
       "top      ******Start****** saw ******End******  and ex...  C1261322  helena   \n",
       "freq                                                    3        95    9656   \n",
       "\n",
       "       correct Negated  Skip         combine  \n",
       "count     9953    9953  9953            9953  \n",
       "unique       2       4     3              13  \n",
       "top       True      No    No  True | No | No  \n",
       "freq      8543    8840  8901            7900  "
      ]
     },
     "execution_count": 79,
     "metadata": {},
     "output_type": "execute_result"
    }
   ],
   "source": [
    "df.describe()"
   ]
  },
  {
   "cell_type": "code",
   "execution_count": 80,
   "metadata": {},
   "outputs": [
    {
     "data": {
      "text/plain": [
       "array(['', 'No', 'Yes', 'Unknown'], dtype=object)"
      ]
     },
     "execution_count": 80,
     "metadata": {},
     "output_type": "execute_result"
    }
   ],
   "source": [
    "df['Negated'].unique()"
   ]
  },
  {
   "cell_type": "code",
   "execution_count": 81,
   "metadata": {},
   "outputs": [
    {
     "data": {
      "text/plain": [
       "array(['', 'No', 'Yes'], dtype=object)"
      ]
     },
     "execution_count": 81,
     "metadata": {},
     "output_type": "execute_result"
    }
   ],
   "source": [
    "df['Skip'].unique()"
   ]
  },
  {
   "cell_type": "code",
   "execution_count": 99,
   "metadata": {},
   "outputs": [
    {
     "data": {
      "text/html": [
       "<div>\n",
       "<style scoped>\n",
       "    .dataframe tbody tr th:only-of-type {\n",
       "        vertical-align: middle;\n",
       "    }\n",
       "\n",
       "    .dataframe tbody tr th {\n",
       "        vertical-align: top;\n",
       "    }\n",
       "\n",
       "    .dataframe thead th {\n",
       "        text-align: right;\n",
       "    }\n",
       "</style>\n",
       "<table border=\"1\" class=\"dataframe\">\n",
       "  <thead>\n",
       "    <tr style=\"text-align: right;\">\n",
       "      <th></th>\n",
       "      <th>doc_id</th>\n",
       "      <th>annotation_id</th>\n",
       "      <th>string</th>\n",
       "      <th>context</th>\n",
       "      <th>cui</th>\n",
       "      <th>user</th>\n",
       "      <th>correct</th>\n",
       "      <th>Negated</th>\n",
       "      <th>Skip</th>\n",
       "      <th>combine</th>\n",
       "    </tr>\n",
       "  </thead>\n",
       "  <tbody>\n",
       "    <tr>\n",
       "      <th>count</th>\n",
       "      <td>297</td>\n",
       "      <td>297</td>\n",
       "      <td>297</td>\n",
       "      <td>297</td>\n",
       "      <td>297</td>\n",
       "      <td>297</td>\n",
       "      <td>297</td>\n",
       "      <td>297</td>\n",
       "      <td>297</td>\n",
       "      <td>297</td>\n",
       "    </tr>\n",
       "    <tr>\n",
       "      <th>unique</th>\n",
       "      <td>11</td>\n",
       "      <td>292</td>\n",
       "      <td>172</td>\n",
       "      <td>297</td>\n",
       "      <td>158</td>\n",
       "      <td>1</td>\n",
       "      <td>2</td>\n",
       "      <td>4</td>\n",
       "      <td>3</td>\n",
       "      <td>8</td>\n",
       "    </tr>\n",
       "    <tr>\n",
       "      <th>top</th>\n",
       "      <td>Doc 3</td>\n",
       "      <td>20-27</td>\n",
       "      <td>Doctor</td>\n",
       "      <td>NOT DELIRIUM)\\n .H/O HYPOVOLEMIA (VOLUME DEPLE...</td>\n",
       "      <td>C0439476</td>\n",
       "      <td>tao</td>\n",
       "      <td>True</td>\n",
       "      <td>No</td>\n",
       "      <td>No</td>\n",
       "      <td>True | No | No</td>\n",
       "    </tr>\n",
       "    <tr>\n",
       "      <th>freq</th>\n",
       "      <td>52</td>\n",
       "      <td>2</td>\n",
       "      <td>7</td>\n",
       "      <td>1</td>\n",
       "      <td>7</td>\n",
       "      <td>297</td>\n",
       "      <td>175</td>\n",
       "      <td>194</td>\n",
       "      <td>189</td>\n",
       "      <td>164</td>\n",
       "    </tr>\n",
       "  </tbody>\n",
       "</table>\n",
       "</div>"
      ],
      "text/plain": [
       "       doc_id annotation_id  string  \\\n",
       "count     297           297     297   \n",
       "unique     11           292     172   \n",
       "top     Doc 3         20-27  Doctor   \n",
       "freq       52             2       7   \n",
       "\n",
       "                                                  context       cui user  \\\n",
       "count                                                 297       297  297   \n",
       "unique                                                297       158    1   \n",
       "top     NOT DELIRIUM)\\n .H/O HYPOVOLEMIA (VOLUME DEPLE...  C0439476  tao   \n",
       "freq                                                    1         7  297   \n",
       "\n",
       "       correct Negated Skip         combine  \n",
       "count      297     297  297             297  \n",
       "unique       2       4    3               8  \n",
       "top       True      No   No  True | No | No  \n",
       "freq       175     194  189             164  "
      ]
     },
     "execution_count": 99,
     "metadata": {},
     "output_type": "execute_result"
    }
   ],
   "source": [
    "df[df['user']=='tao'].describe()"
   ]
  },
  {
   "cell_type": "code",
   "execution_count": 100,
   "metadata": {},
   "outputs": [
    {
     "data": {
      "text/plain": [
       "array(['tao', 'helena'], dtype=object)"
      ]
     },
     "execution_count": 100,
     "metadata": {},
     "output_type": "execute_result"
    }
   ],
   "source": [
    "df['user'].unique()"
   ]
  },
  {
   "cell_type": "code",
   "execution_count": 101,
   "metadata": {},
   "outputs": [
    {
     "data": {
      "text/html": [
       "<div>\n",
       "<style scoped>\n",
       "    .dataframe tbody tr th:only-of-type {\n",
       "        vertical-align: middle;\n",
       "    }\n",
       "\n",
       "    .dataframe tbody tr th {\n",
       "        vertical-align: top;\n",
       "    }\n",
       "\n",
       "    .dataframe thead th {\n",
       "        text-align: right;\n",
       "    }\n",
       "</style>\n",
       "<table border=\"1\" class=\"dataframe\">\n",
       "  <thead>\n",
       "    <tr style=\"text-align: right;\">\n",
       "      <th></th>\n",
       "      <th>doc_id</th>\n",
       "      <th>annotation_id</th>\n",
       "      <th>string</th>\n",
       "      <th>context</th>\n",
       "      <th>cui</th>\n",
       "      <th>user</th>\n",
       "      <th>correct</th>\n",
       "      <th>Negated</th>\n",
       "      <th>Skip</th>\n",
       "      <th>combine</th>\n",
       "    </tr>\n",
       "  </thead>\n",
       "  <tbody>\n",
       "    <tr>\n",
       "      <th>count</th>\n",
       "      <td>9656</td>\n",
       "      <td>9656</td>\n",
       "      <td>9656</td>\n",
       "      <td>9656</td>\n",
       "      <td>9656</td>\n",
       "      <td>9656</td>\n",
       "      <td>9656</td>\n",
       "      <td>9656</td>\n",
       "      <td>9656</td>\n",
       "      <td>9656</td>\n",
       "    </tr>\n",
       "    <tr>\n",
       "      <th>unique</th>\n",
       "      <td>50</td>\n",
       "      <td>9100</td>\n",
       "      <td>3590</td>\n",
       "      <td>9654</td>\n",
       "      <td>2267</td>\n",
       "      <td>1</td>\n",
       "      <td>2</td>\n",
       "      <td>4</td>\n",
       "      <td>3</td>\n",
       "      <td>13</td>\n",
       "    </tr>\n",
       "    <tr>\n",
       "      <th>top</th>\n",
       "      <td>Doc 45</td>\n",
       "      <td>0-15</td>\n",
       "      <td>Assessment</td>\n",
       "      <td>******Start****** examined ******End******  t...</td>\n",
       "      <td>C1261322</td>\n",
       "      <td>helena</td>\n",
       "      <td>True</td>\n",
       "      <td>No</td>\n",
       "      <td>No</td>\n",
       "      <td>True | No | No</td>\n",
       "    </tr>\n",
       "    <tr>\n",
       "      <th>freq</th>\n",
       "      <td>569</td>\n",
       "      <td>12</td>\n",
       "      <td>85</td>\n",
       "      <td>2</td>\n",
       "      <td>91</td>\n",
       "      <td>9656</td>\n",
       "      <td>8368</td>\n",
       "      <td>8646</td>\n",
       "      <td>8712</td>\n",
       "      <td>7736</td>\n",
       "    </tr>\n",
       "  </tbody>\n",
       "</table>\n",
       "</div>"
      ],
      "text/plain": [
       "        doc_id annotation_id      string  \\\n",
       "count     9656          9656        9656   \n",
       "unique      50          9100        3590   \n",
       "top     Doc 45          0-15  Assessment   \n",
       "freq       569            12          85   \n",
       "\n",
       "                                                  context       cui    user  \\\n",
       "count                                                9656      9656    9656   \n",
       "unique                                               9654      2267       1   \n",
       "top      ******Start****** examined ******End******  t...  C1261322  helena   \n",
       "freq                                                    2        91    9656   \n",
       "\n",
       "       correct Negated  Skip         combine  \n",
       "count     9656    9656  9656            9656  \n",
       "unique       2       4     3              13  \n",
       "top       True      No    No  True | No | No  \n",
       "freq      8368    8646  8712            7736  "
      ]
     },
     "execution_count": 101,
     "metadata": {},
     "output_type": "execute_result"
    }
   ],
   "source": [
    "df[df['user']=='helena'].describe()"
   ]
  },
  {
   "cell_type": "code",
   "execution_count": 102,
   "metadata": {},
   "outputs": [
    {
     "data": {
      "text/html": [
       "<div>\n",
       "<style scoped>\n",
       "    .dataframe tbody tr th:only-of-type {\n",
       "        vertical-align: middle;\n",
       "    }\n",
       "\n",
       "    .dataframe tbody tr th {\n",
       "        vertical-align: top;\n",
       "    }\n",
       "\n",
       "    .dataframe thead th {\n",
       "        text-align: right;\n",
       "    }\n",
       "</style>\n",
       "<table border=\"1\" class=\"dataframe\">\n",
       "  <thead>\n",
       "    <tr style=\"text-align: right;\">\n",
       "      <th></th>\n",
       "      <th>doc_id</th>\n",
       "      <th>annotation_id</th>\n",
       "      <th>string</th>\n",
       "      <th>context</th>\n",
       "      <th>cui</th>\n",
       "      <th>user</th>\n",
       "      <th>correct</th>\n",
       "      <th>Negated</th>\n",
       "      <th>Skip</th>\n",
       "      <th>combine</th>\n",
       "    </tr>\n",
       "  </thead>\n",
       "  <tbody>\n",
       "    <tr>\n",
       "      <th>0</th>\n",
       "      <td>Doc 0</td>\n",
       "      <td>3878-3890</td>\n",
       "      <td>Differential</td>\n",
       "      <td>\\n   Cr\\n   1.0\\n   1.0\\n   TCO2\\n   22\\n   21...</td>\n",
       "      <td>C1705242</td>\n",
       "      <td>tao</td>\n",
       "      <td>False</td>\n",
       "      <td></td>\n",
       "      <td></td>\n",
       "      <td>False |  |</td>\n",
       "    </tr>\n",
       "    <tr>\n",
       "      <th>1</th>\n",
       "      <td>Doc 0</td>\n",
       "      <td>4496-4507</td>\n",
       "      <td>Prophylaxis</td>\n",
       "      <td>FAILURE, ACUTE (NOT ARDS/[**Doctor Last Name ...</td>\n",
       "      <td>C0199176</td>\n",
       "      <td>tao</td>\n",
       "      <td>True</td>\n",
       "      <td>No</td>\n",
       "      <td>No</td>\n",
       "      <td>True | No | No</td>\n",
       "    </tr>\n",
       "    <tr>\n",
       "      <th>2</th>\n",
       "      <td>Doc 0</td>\n",
       "      <td>2284-2294</td>\n",
       "      <td>Ventilator</td>\n",
       "      <td>...</td>\n",
       "      <td>C1611144</td>\n",
       "      <td>tao</td>\n",
       "      <td>False</td>\n",
       "      <td></td>\n",
       "      <td></td>\n",
       "      <td>False |  |</td>\n",
       "    </tr>\n",
       "    <tr>\n",
       "      <th>3</th>\n",
       "      <td>Doc 0</td>\n",
       "      <td>592-601</td>\n",
       "      <td>unchanged</td>\n",
       "      <td>ed) - 1.5 mg/hour\\n   Fentanyl (Concentrate) -...</td>\n",
       "      <td>C2346711</td>\n",
       "      <td>tao</td>\n",
       "      <td>True</td>\n",
       "      <td>No</td>\n",
       "      <td>No</td>\n",
       "      <td>True | No | No</td>\n",
       "    </tr>\n",
       "    <tr>\n",
       "      <th>4</th>\n",
       "      <td>Doc 0</td>\n",
       "      <td>2871-2880</td>\n",
       "      <td>Radiology</td>\n",
       "      <td>ot assessed), (Right DP pulse: Not assessed), ...</td>\n",
       "      <td>C0807679</td>\n",
       "      <td>tao</td>\n",
       "      <td>True</td>\n",
       "      <td>No</td>\n",
       "      <td>No</td>\n",
       "      <td>True | No | No</td>\n",
       "    </tr>\n",
       "  </tbody>\n",
       "</table>\n",
       "</div>"
      ],
      "text/plain": [
       "  doc_id annotation_id        string  \\\n",
       "0  Doc 0     3878-3890  Differential   \n",
       "1  Doc 0     4496-4507   Prophylaxis   \n",
       "2  Doc 0     2284-2294    Ventilator   \n",
       "3  Doc 0       592-601     unchanged   \n",
       "4  Doc 0     2871-2880     Radiology   \n",
       "\n",
       "                                             context       cui user  correct  \\\n",
       "0  \\n   Cr\\n   1.0\\n   1.0\\n   TCO2\\n   22\\n   21...  C1705242  tao    False   \n",
       "1   FAILURE, ACUTE (NOT ARDS/[**Doctor Last Name ...  C0199176  tao     True   \n",
       "2                                                ...  C1611144  tao    False   \n",
       "3  ed) - 1.5 mg/hour\\n   Fentanyl (Concentrate) -...  C2346711  tao     True   \n",
       "4  ot assessed), (Right DP pulse: Not assessed), ...  C0807679  tao     True   \n",
       "\n",
       "  Negated Skip         combine  \n",
       "0                  False |  |   \n",
       "1      No   No  True | No | No  \n",
       "2                  False |  |   \n",
       "3      No   No  True | No | No  \n",
       "4      No   No  True | No | No  "
      ]
     },
     "execution_count": 102,
     "metadata": {},
     "output_type": "execute_result"
    }
   ],
   "source": [
    "df.head()"
   ]
  },
  {
   "cell_type": "code",
   "execution_count": 103,
   "metadata": {},
   "outputs": [],
   "source": [
    "df = df[df['user']=='helena']"
   ]
  },
  {
   "cell_type": "code",
   "execution_count": 104,
   "metadata": {},
   "outputs": [
    {
     "data": {
      "text/plain": [
       "(9656, 10)"
      ]
     },
     "execution_count": 104,
     "metadata": {},
     "output_type": "execute_result"
    }
   ],
   "source": [
    "df.shape"
   ]
  },
  {
   "cell_type": "code",
   "execution_count": 105,
   "metadata": {},
   "outputs": [
    {
     "data": {
      "text/plain": [
       "array([ True, False])"
      ]
     },
     "execution_count": 105,
     "metadata": {},
     "output_type": "execute_result"
    }
   ],
   "source": [
    "df['correct'].unique()"
   ]
  },
  {
   "cell_type": "code",
   "execution_count": 106,
   "metadata": {},
   "outputs": [
    {
     "data": {
      "text/html": [
       "<div>\n",
       "<style scoped>\n",
       "    .dataframe tbody tr th:only-of-type {\n",
       "        vertical-align: middle;\n",
       "    }\n",
       "\n",
       "    .dataframe tbody tr th {\n",
       "        vertical-align: top;\n",
       "    }\n",
       "\n",
       "    .dataframe thead th {\n",
       "        text-align: right;\n",
       "    }\n",
       "</style>\n",
       "<table border=\"1\" class=\"dataframe\">\n",
       "  <thead>\n",
       "    <tr style=\"text-align: right;\">\n",
       "      <th></th>\n",
       "      <th>doc_id</th>\n",
       "      <th>annotation_id</th>\n",
       "      <th>string</th>\n",
       "      <th>context</th>\n",
       "      <th>cui</th>\n",
       "      <th>user</th>\n",
       "      <th>correct</th>\n",
       "      <th>Negated</th>\n",
       "      <th>Skip</th>\n",
       "      <th>combine</th>\n",
       "    </tr>\n",
       "  </thead>\n",
       "  <tbody>\n",
       "    <tr>\n",
       "      <th>92</th>\n",
       "      <td>Doc 0</td>\n",
       "      <td>2815-2823</td>\n",
       "      <td>Movement</td>\n",
       "      <td>ht radial pulse: Not assessed), (Left radial\\n...</td>\n",
       "      <td>C0026649</td>\n",
       "      <td>helena</td>\n",
       "      <td>False</td>\n",
       "      <td></td>\n",
       "      <td></td>\n",
       "      <td>False |  |</td>\n",
       "    </tr>\n",
       "    <tr>\n",
       "      <th>98</th>\n",
       "      <td>Doc 0</td>\n",
       "      <td>53-59</td>\n",
       "      <td>weaned</td>\n",
       "      <td>******Start****** weaned ******End******  ove...</td>\n",
       "      <td>C0043084</td>\n",
       "      <td>helena</td>\n",
       "      <td>False</td>\n",
       "      <td></td>\n",
       "      <td></td>\n",
       "      <td>False |  |</td>\n",
       "    </tr>\n",
       "    <tr>\n",
       "      <th>110</th>\n",
       "      <td>Doc 0</td>\n",
       "      <td>3908-3913</td>\n",
       "      <td>Lymph</td>\n",
       "      <td>22\\n   21\\n   22\\n   20\\n   21\\n   Glucose\\n...</td>\n",
       "      <td>C0024202</td>\n",
       "      <td>helena</td>\n",
       "      <td>False</td>\n",
       "      <td></td>\n",
       "      <td></td>\n",
       "      <td>False |  |</td>\n",
       "    </tr>\n",
       "    <tr>\n",
       "      <th>117</th>\n",
       "      <td>Doc 0</td>\n",
       "      <td>923-927</td>\n",
       "      <td>Tmax</td>\n",
       "      <td>gns\\n   Hemodynamic monitoring\\n   Fluid balan...</td>\n",
       "      <td>C0039476</td>\n",
       "      <td>helena</td>\n",
       "      <td>False</td>\n",
       "      <td>No</td>\n",
       "      <td>No</td>\n",
       "      <td>False | No | No</td>\n",
       "    </tr>\n",
       "    <tr>\n",
       "      <th>129</th>\n",
       "      <td>Doc 0</td>\n",
       "      <td>3840-3844</td>\n",
       "      <td>Bili</td>\n",
       "      <td>9.7\\n   39.2\\n   38.7\\n   Plt\\n   74\\n   81\\n ...</td>\n",
       "      <td>C0520687</td>\n",
       "      <td>helena</td>\n",
       "      <td>False</td>\n",
       "      <td></td>\n",
       "      <td></td>\n",
       "      <td>False |  |</td>\n",
       "    </tr>\n",
       "  </tbody>\n",
       "</table>\n",
       "</div>"
      ],
      "text/plain": [
       "    doc_id annotation_id    string  \\\n",
       "92   Doc 0     2815-2823  Movement   \n",
       "98   Doc 0         53-59    weaned   \n",
       "110  Doc 0     3908-3913     Lymph   \n",
       "117  Doc 0       923-927      Tmax   \n",
       "129  Doc 0     3840-3844      Bili   \n",
       "\n",
       "                                               context       cui    user  \\\n",
       "92   ht radial pulse: Not assessed), (Left radial\\n...  C0026649  helena   \n",
       "98    ******Start****** weaned ******End******  ove...  C0043084  helena   \n",
       "110    22\\n   21\\n   22\\n   20\\n   21\\n   Glucose\\n...  C0024202  helena   \n",
       "117  gns\\n   Hemodynamic monitoring\\n   Fluid balan...  C0039476  helena   \n",
       "129  9.7\\n   39.2\\n   38.7\\n   Plt\\n   74\\n   81\\n ...  C0520687  helena   \n",
       "\n",
       "     correct Negated Skip          combine  \n",
       "92     False                   False |  |   \n",
       "98     False                   False |  |   \n",
       "110    False                   False |  |   \n",
       "117    False      No   No  False | No | No  \n",
       "129    False                   False |  |   "
      ]
     },
     "execution_count": 106,
     "metadata": {},
     "output_type": "execute_result"
    }
   ],
   "source": [
    "df[df['correct']==False].head()"
   ]
  },
  {
   "cell_type": "markdown",
   "metadata": {},
   "source": [
    "### Here only accuracy of mention can be evaluted, as meta annotations are not measured during annotation in medcat trainer"
   ]
  },
  {
   "cell_type": "code",
   "execution_count": 107,
   "metadata": {},
   "outputs": [
    {
     "data": {
      "text/plain": [
       "True     8368\n",
       "False    1288\n",
       "Name: correct, dtype: int64"
      ]
     },
     "execution_count": 107,
     "metadata": {},
     "output_type": "execute_result"
    }
   ],
   "source": [
    "df['correct'].value_counts()"
   ]
  },
  {
   "cell_type": "code",
   "execution_count": 108,
   "metadata": {},
   "outputs": [
    {
     "data": {
      "text/plain": [
       "0.8666114333057167"
      ]
     },
     "execution_count": 108,
     "metadata": {},
     "output_type": "execute_result"
    }
   ],
   "source": [
    "8368/9656"
   ]
  },
  {
   "cell_type": "code",
   "execution_count": null,
   "metadata": {},
   "outputs": [],
   "source": []
  },
  {
   "cell_type": "markdown",
   "metadata": {},
   "source": [
    "## Re-annoate data"
   ]
  },
  {
   "cell_type": "code",
   "execution_count": 36,
   "metadata": {},
   "outputs": [],
   "source": [
    "from medcat.cat import CAT\n",
    "from medcat.utils.vocab import Vocab\n",
    "from medcat.cdb import CDB\n",
    "from medcat.meta_cat import MetaCAT"
   ]
  },
  {
   "cell_type": "code",
   "execution_count": 37,
   "metadata": {},
   "outputs": [],
   "source": [
    "cdb = CDB()\n",
    "    # cdb.load_dict(\"/home/ubuntu/Tao/KER/medcat_models/0.2.6.2 - snomed_us_ext_names_umls_clean_primary_1M.dat\")\n",
    "cdb.load_dict(\"medcat_models/umls_base_wlink_clean_name_400k_mimic.dat\")\n",
    "vocab = Vocab()\n",
    "vocab.load_dict(path='medcat_models/base_vocabulary.dat')\n",
    "\n",
    "\n",
    "mc_negated = MetaCAT(save_dir=\"medcat_models/mc_negated/\")\n",
    "mc_negated.load()\n",
    "mc_skip = MetaCAT(save_dir=\"medcat_models/mc_skip/\")\n",
    "mc_skip.load()\n",
    "\n",
    "\n",
    "cat = CAT(cdb, vocab=vocab, meta_cats=[mc_negated, mc_skip])\n",
    "cat.train = False\n",
    "cat.spacy_cat.MIN_ACC = 0.35\n",
    "cat.spacy_cat.MIN_CONCEPT_LENGTH = 2"
   ]
  },
  {
   "cell_type": "code",
   "execution_count": 62,
   "metadata": {},
   "outputs": [],
   "source": [
    "docs = {}"
   ]
  },
  {
   "cell_type": "code",
   "execution_count": 63,
   "metadata": {},
   "outputs": [],
   "source": [
    "# docs_df.head()"
   ]
  },
  {
   "cell_type": "code",
   "execution_count": 64,
   "metadata": {},
   "outputs": [
    {
     "name": "stdout",
     "output_type": "stream",
     "text": [
      "Len of df: 50\n"
     ]
    }
   ],
   "source": [
    "# The CSV must have the following three columns: id (row id), body_analysed (text of a document) and \n",
    "#client_idcode (patient id)\n",
    "\n",
    "print(f\"Len of df: {len(docs_df)}\")\n",
    "\n",
    "batch_size = 10 # Use 10k if you have a lot of documents\n",
    "batch = []\n",
    "cnt = 0\n",
    "for name, text in docs_df[['row_id', 'text']].values:\n",
    "    text = str(text)\n",
    "    cnt += 1\n",
    "    if len(text) > 0 and name not in docs:\n",
    "        # This will screwup positions of entites if doc>100k\n",
    "        npart = int(np.ceil(len(text) / 100000))\n",
    "        for i in range(npart):\n",
    "            batch.append((name, text[i*100000:(i+1)*100000]))\n",
    "        \n",
    "        \n",
    "    if len(batch) >= batch_size or (cnt == len(df) and len(batch) > 0):\n",
    "        res = cat.multi_processing(batch, nproc=5, batch_size=batch_size // 100) # Use the correct number of processors\n",
    "\n",
    "        for name, doc in res:\n",
    "            if name not in docs:\n",
    "                docs[name] = []\n",
    "                \n",
    "            docs[name].extend(doc['entities'])\n",
    "#             print(name)\n",
    "        batch = []"
   ]
  },
  {
   "cell_type": "code",
   "execution_count": 65,
   "metadata": {},
   "outputs": [
    {
     "data": {
      "text/plain": [
       "50"
      ]
     },
     "execution_count": 65,
     "metadata": {},
     "output_type": "execute_result"
    }
   ],
   "source": [
    "len(docs)"
   ]
  },
  {
   "cell_type": "code",
   "execution_count": 114,
   "metadata": {},
   "outputs": [],
   "source": [
    "dat = []\n",
    "for i, doc in enumerate(list(docs.keys())):\n",
    "    doc_id = 'Doc ' + str(i)\n",
    "    for ann in docs[doc]:\n",
    "        negation = ann['meta_anns']['Negated']['value'] \n",
    "        skip = ann['meta_anns']['Skip']['value'] \n",
    "        cui = ann['cui']\n",
    "        annotation_id = str(ann['start']) + '-' + str(ann['end'])\n",
    "        text = ann['source_value']\n",
    "        dat.append([doc_id, annotation_id, text, cui, negation, skip])"
   ]
  },
  {
   "cell_type": "code",
   "execution_count": 115,
   "metadata": {},
   "outputs": [],
   "source": [
    "df_re = pd.DataFrame(dat, columns=['doc_id', 'annotation_id', 'string', 'cui', 'Negated', 'Skip'])"
   ]
  },
  {
   "cell_type": "code",
   "execution_count": 116,
   "metadata": {},
   "outputs": [
    {
     "data": {
      "text/plain": [
       "(10147, 6)"
      ]
     },
     "execution_count": 116,
     "metadata": {},
     "output_type": "execute_result"
    }
   ],
   "source": [
    "df_re.shape"
   ]
  },
  {
   "cell_type": "code",
   "execution_count": 117,
   "metadata": {},
   "outputs": [
    {
     "data": {
      "text/plain": [
       "50"
      ]
     },
     "execution_count": 117,
     "metadata": {},
     "output_type": "execute_result"
    }
   ],
   "source": [
    "df_re['doc_id'].nunique()"
   ]
  },
  {
   "cell_type": "code",
   "execution_count": 118,
   "metadata": {},
   "outputs": [],
   "source": [
    "# df_re.head(10)"
   ]
  },
  {
   "cell_type": "code",
   "execution_count": 119,
   "metadata": {},
   "outputs": [],
   "source": [
    "df_re.to_csv('data/MedCAT_unsupervised_annotation.csv', index=None)"
   ]
  },
  {
   "cell_type": "code",
   "execution_count": 120,
   "metadata": {},
   "outputs": [],
   "source": [
    "df_re = pd.read_csv('data/MedCAT_unsupervised_annotation.csv')"
   ]
  },
  {
   "cell_type": "code",
   "execution_count": 121,
   "metadata": {},
   "outputs": [
    {
     "data": {
      "text/html": [
       "<div>\n",
       "<style scoped>\n",
       "    .dataframe tbody tr th:only-of-type {\n",
       "        vertical-align: middle;\n",
       "    }\n",
       "\n",
       "    .dataframe tbody tr th {\n",
       "        vertical-align: top;\n",
       "    }\n",
       "\n",
       "    .dataframe thead th {\n",
       "        text-align: right;\n",
       "    }\n",
       "</style>\n",
       "<table border=\"1\" class=\"dataframe\">\n",
       "  <thead>\n",
       "    <tr style=\"text-align: right;\">\n",
       "      <th></th>\n",
       "      <th>doc_id</th>\n",
       "      <th>annotation_id</th>\n",
       "      <th>string</th>\n",
       "      <th>cui</th>\n",
       "      <th>Negated</th>\n",
       "      <th>Skip</th>\n",
       "    </tr>\n",
       "  </thead>\n",
       "  <tbody>\n",
       "    <tr>\n",
       "      <th>0</th>\n",
       "      <td>Doc 0</td>\n",
       "      <td>0-15</td>\n",
       "      <td>Chief Complaint</td>\n",
       "      <td>C0277786</td>\n",
       "      <td>No</td>\n",
       "      <td>No</td>\n",
       "    </tr>\n",
       "    <tr>\n",
       "      <th>1</th>\n",
       "      <td>Doc 0</td>\n",
       "      <td>39-43</td>\n",
       "      <td>PEEP</td>\n",
       "      <td>C0032740</td>\n",
       "      <td>No</td>\n",
       "      <td>No</td>\n",
       "    </tr>\n",
       "    <tr>\n",
       "      <th>2</th>\n",
       "      <td>Doc 0</td>\n",
       "      <td>48-52</td>\n",
       "      <td>FIO2</td>\n",
       "      <td>C0428167</td>\n",
       "      <td>No</td>\n",
       "      <td>No</td>\n",
       "    </tr>\n",
       "    <tr>\n",
       "      <th>3</th>\n",
       "      <td>Doc 0</td>\n",
       "      <td>53-59</td>\n",
       "      <td>weaned</td>\n",
       "      <td>C0043084</td>\n",
       "      <td>No</td>\n",
       "      <td>No</td>\n",
       "    </tr>\n",
       "    <tr>\n",
       "      <th>4</th>\n",
       "      <td>Doc 0</td>\n",
       "      <td>60-69</td>\n",
       "      <td>overnight</td>\n",
       "      <td>C0439583</td>\n",
       "      <td>No</td>\n",
       "      <td>No</td>\n",
       "    </tr>\n",
       "    <tr>\n",
       "      <th>5</th>\n",
       "      <td>Doc 0</td>\n",
       "      <td>73-82</td>\n",
       "      <td>Allergies</td>\n",
       "      <td>C0020517</td>\n",
       "      <td>No</td>\n",
       "      <td>No</td>\n",
       "    </tr>\n",
       "    <tr>\n",
       "      <th>6</th>\n",
       "      <td>Doc 0</td>\n",
       "      <td>87-110</td>\n",
       "      <td>No Known Drug Allergies</td>\n",
       "      <td>C0262581</td>\n",
       "      <td>No</td>\n",
       "      <td>No</td>\n",
       "    </tr>\n",
       "    <tr>\n",
       "      <th>7</th>\n",
       "      <td>Doc 0</td>\n",
       "      <td>119-123</td>\n",
       "      <td>dose</td>\n",
       "      <td>C0178602</td>\n",
       "      <td>No</td>\n",
       "      <td>No</td>\n",
       "    </tr>\n",
       "    <tr>\n",
       "      <th>8</th>\n",
       "      <td>Doc 0</td>\n",
       "      <td>127-138</td>\n",
       "      <td>Antibiotics</td>\n",
       "      <td>C0003232</td>\n",
       "      <td>No</td>\n",
       "      <td>No</td>\n",
       "    </tr>\n",
       "    <tr>\n",
       "      <th>9</th>\n",
       "      <td>Doc 0</td>\n",
       "      <td>143-154</td>\n",
       "      <td>Ceftriaxone</td>\n",
       "      <td>C0007561</td>\n",
       "      <td>No</td>\n",
       "      <td>No</td>\n",
       "    </tr>\n",
       "  </tbody>\n",
       "</table>\n",
       "</div>"
      ],
      "text/plain": [
       "  doc_id annotation_id                   string       cui Negated Skip\n",
       "0  Doc 0          0-15          Chief Complaint  C0277786      No   No\n",
       "1  Doc 0         39-43                     PEEP  C0032740      No   No\n",
       "2  Doc 0         48-52                     FIO2  C0428167      No   No\n",
       "3  Doc 0         53-59                   weaned  C0043084      No   No\n",
       "4  Doc 0         60-69                overnight  C0439583      No   No\n",
       "5  Doc 0         73-82                Allergies  C0020517      No   No\n",
       "6  Doc 0        87-110  No Known Drug Allergies  C0262581      No   No\n",
       "7  Doc 0       119-123                     dose  C0178602      No   No\n",
       "8  Doc 0       127-138              Antibiotics  C0003232      No   No\n",
       "9  Doc 0       143-154              Ceftriaxone  C0007561      No   No"
      ]
     },
     "execution_count": 121,
     "metadata": {},
     "output_type": "execute_result"
    }
   ],
   "source": [
    "df_re.head(10)"
   ]
  },
  {
   "cell_type": "code",
   "execution_count": 122,
   "metadata": {},
   "outputs": [
    {
     "data": {
      "text/html": [
       "<div>\n",
       "<style scoped>\n",
       "    .dataframe tbody tr th:only-of-type {\n",
       "        vertical-align: middle;\n",
       "    }\n",
       "\n",
       "    .dataframe tbody tr th {\n",
       "        vertical-align: top;\n",
       "    }\n",
       "\n",
       "    .dataframe thead th {\n",
       "        text-align: right;\n",
       "    }\n",
       "</style>\n",
       "<table border=\"1\" class=\"dataframe\">\n",
       "  <thead>\n",
       "    <tr style=\"text-align: right;\">\n",
       "      <th></th>\n",
       "      <th>doc_id</th>\n",
       "      <th>annotation_id</th>\n",
       "      <th>string</th>\n",
       "      <th>context</th>\n",
       "      <th>cui</th>\n",
       "      <th>user</th>\n",
       "      <th>correct</th>\n",
       "      <th>Negated</th>\n",
       "      <th>Skip</th>\n",
       "      <th>combine</th>\n",
       "    </tr>\n",
       "  </thead>\n",
       "  <tbody>\n",
       "    <tr>\n",
       "      <th>40</th>\n",
       "      <td>Doc 0</td>\n",
       "      <td>87-110</td>\n",
       "      <td>No Known Drug Allergies</td>\n",
       "      <td>******Start****** No Known Drug Allergies ***...</td>\n",
       "      <td>C0262581</td>\n",
       "      <td>helena</td>\n",
       "      <td>True</td>\n",
       "      <td>No</td>\n",
       "      <td>No</td>\n",
       "      <td>True | No | No</td>\n",
       "    </tr>\n",
       "    <tr>\n",
       "      <th>41</th>\n",
       "      <td>Doc 0</td>\n",
       "      <td>273-296</td>\n",
       "      <td>Piperacillin/Tazobactam</td>\n",
       "      <td>Allergies:\\n   No Known Drug Allergies\\n   Las...</td>\n",
       "      <td>C0250480</td>\n",
       "      <td>helena</td>\n",
       "      <td>True</td>\n",
       "      <td>No</td>\n",
       "      <td>No</td>\n",
       "      <td>True | No | No</td>\n",
       "    </tr>\n",
       "    <tr>\n",
       "      <th>42</th>\n",
       "      <td>Doc 0</td>\n",
       "      <td>730-752</td>\n",
       "      <td>Hemodynamic monitoring</td>\n",
       "      <td>hanges to medical and family history:\\n   Revi...</td>\n",
       "      <td>C4082936</td>\n",
       "      <td>helena</td>\n",
       "      <td>True</td>\n",
       "      <td>No</td>\n",
       "      <td>No</td>\n",
       "      <td>True | No | No</td>\n",
       "    </tr>\n",
       "    <tr>\n",
       "      <th>43</th>\n",
       "      <td>Doc 0</td>\n",
       "      <td>4162-4184</td>\n",
       "      <td>GASTROINTESTINAL BLEED</td>\n",
       "      <td>dL, Lactic\\n   Acid:0.9 mmol/L, Albumin:2.8 g/...</td>\n",
       "      <td>C0017181</td>\n",
       "      <td>helena</td>\n",
       "      <td>True</td>\n",
       "      <td>No</td>\n",
       "      <td>No</td>\n",
       "      <td>True | No | No</td>\n",
       "    </tr>\n",
       "    <tr>\n",
       "      <th>44</th>\n",
       "      <td>Doc 0</td>\n",
       "      <td>4217-4239</td>\n",
       "      <td>GASTROINTESTINAL BLEED</td>\n",
       "      <td>5 IU/L, Ca++:7.7 mg/dL,\\n   Mg++:1.3 mg/dL, PO...</td>\n",
       "      <td>C0017181</td>\n",
       "      <td>helena</td>\n",
       "      <td>True</td>\n",
       "      <td>No</td>\n",
       "      <td>No</td>\n",
       "      <td>True | No | No</td>\n",
       "    </tr>\n",
       "  </tbody>\n",
       "</table>\n",
       "</div>"
      ],
      "text/plain": [
       "   doc_id annotation_id                   string  \\\n",
       "40  Doc 0        87-110  No Known Drug Allergies   \n",
       "41  Doc 0       273-296  Piperacillin/Tazobactam   \n",
       "42  Doc 0       730-752   Hemodynamic monitoring   \n",
       "43  Doc 0     4162-4184   GASTROINTESTINAL BLEED   \n",
       "44  Doc 0     4217-4239   GASTROINTESTINAL BLEED   \n",
       "\n",
       "                                              context       cui    user  \\\n",
       "40   ******Start****** No Known Drug Allergies ***...  C0262581  helena   \n",
       "41  Allergies:\\n   No Known Drug Allergies\\n   Las...  C0250480  helena   \n",
       "42  hanges to medical and family history:\\n   Revi...  C4082936  helena   \n",
       "43  dL, Lactic\\n   Acid:0.9 mmol/L, Albumin:2.8 g/...  C0017181  helena   \n",
       "44  5 IU/L, Ca++:7.7 mg/dL,\\n   Mg++:1.3 mg/dL, PO...  C0017181  helena   \n",
       "\n",
       "    correct Negated Skip         combine  \n",
       "40     True      No   No  True | No | No  \n",
       "41     True      No   No  True | No | No  \n",
       "42     True      No   No  True | No | No  \n",
       "43     True      No   No  True | No | No  \n",
       "44     True      No   No  True | No | No  "
      ]
     },
     "execution_count": 122,
     "metadata": {},
     "output_type": "execute_result"
    }
   ],
   "source": [
    "df.head()"
   ]
  },
  {
   "cell_type": "code",
   "execution_count": 113,
   "metadata": {},
   "outputs": [
    {
     "data": {
      "text/plain": [
       "array([ True, False])"
      ]
     },
     "execution_count": 113,
     "metadata": {},
     "output_type": "execute_result"
    }
   ],
   "source": [
    "df['correct'].unique()"
   ]
  },
  {
   "cell_type": "code",
   "execution_count": 126,
   "metadata": {},
   "outputs": [
    {
     "name": "stdout",
     "output_type": "stream",
     "text": [
      "(9656, 10) (10147, 6)\n"
     ]
    }
   ],
   "source": [
    "print(df.shape, df_re.shape)"
   ]
  },
  {
   "cell_type": "code",
   "execution_count": 124,
   "metadata": {},
   "outputs": [],
   "source": [
    "df_com = df.merge(df_re, on=['doc_id', 'annotation_id'], how='inner')"
   ]
  },
  {
   "cell_type": "code",
   "execution_count": 125,
   "metadata": {},
   "outputs": [
    {
     "data": {
      "text/plain": [
       "(7610, 14)"
      ]
     },
     "execution_count": 125,
     "metadata": {},
     "output_type": "execute_result"
    }
   ],
   "source": [
    "df_com.shape"
   ]
  },
  {
   "cell_type": "code",
   "execution_count": 127,
   "metadata": {},
   "outputs": [
    {
     "data": {
      "text/html": [
       "<div>\n",
       "<style scoped>\n",
       "    .dataframe tbody tr th:only-of-type {\n",
       "        vertical-align: middle;\n",
       "    }\n",
       "\n",
       "    .dataframe tbody tr th {\n",
       "        vertical-align: top;\n",
       "    }\n",
       "\n",
       "    .dataframe thead th {\n",
       "        text-align: right;\n",
       "    }\n",
       "</style>\n",
       "<table border=\"1\" class=\"dataframe\">\n",
       "  <thead>\n",
       "    <tr style=\"text-align: right;\">\n",
       "      <th></th>\n",
       "      <th>doc_id</th>\n",
       "      <th>annotation_id</th>\n",
       "      <th>string_x</th>\n",
       "      <th>context</th>\n",
       "      <th>cui_x</th>\n",
       "      <th>user</th>\n",
       "      <th>correct</th>\n",
       "      <th>Negated_x</th>\n",
       "      <th>Skip_x</th>\n",
       "      <th>combine</th>\n",
       "      <th>string_y</th>\n",
       "      <th>cui_y</th>\n",
       "      <th>Negated_y</th>\n",
       "      <th>Skip_y</th>\n",
       "    </tr>\n",
       "  </thead>\n",
       "  <tbody>\n",
       "    <tr>\n",
       "      <th>0</th>\n",
       "      <td>Doc 0</td>\n",
       "      <td>87-110</td>\n",
       "      <td>No Known Drug Allergies</td>\n",
       "      <td>******Start****** No Known Drug Allergies ***...</td>\n",
       "      <td>C0262581</td>\n",
       "      <td>helena</td>\n",
       "      <td>True</td>\n",
       "      <td>No</td>\n",
       "      <td>No</td>\n",
       "      <td>True | No | No</td>\n",
       "      <td>No Known Drug Allergies</td>\n",
       "      <td>C0262581</td>\n",
       "      <td>No</td>\n",
       "      <td>No</td>\n",
       "    </tr>\n",
       "    <tr>\n",
       "      <th>1</th>\n",
       "      <td>Doc 0</td>\n",
       "      <td>273-296</td>\n",
       "      <td>Piperacillin/Tazobactam</td>\n",
       "      <td>Allergies:\\n   No Known Drug Allergies\\n   Las...</td>\n",
       "      <td>C0250480</td>\n",
       "      <td>helena</td>\n",
       "      <td>True</td>\n",
       "      <td>No</td>\n",
       "      <td>No</td>\n",
       "      <td>True | No | No</td>\n",
       "      <td>Piperacillin/Tazobactam</td>\n",
       "      <td>C0250480</td>\n",
       "      <td>No</td>\n",
       "      <td>No</td>\n",
       "    </tr>\n",
       "    <tr>\n",
       "      <th>2</th>\n",
       "      <td>Doc 0</td>\n",
       "      <td>730-752</td>\n",
       "      <td>Hemodynamic monitoring</td>\n",
       "      <td>hanges to medical and family history:\\n   Revi...</td>\n",
       "      <td>C4082936</td>\n",
       "      <td>helena</td>\n",
       "      <td>True</td>\n",
       "      <td>No</td>\n",
       "      <td>No</td>\n",
       "      <td>True | No | No</td>\n",
       "      <td>Hemodynamic monitoring</td>\n",
       "      <td>C4082936</td>\n",
       "      <td>No</td>\n",
       "      <td>No</td>\n",
       "    </tr>\n",
       "    <tr>\n",
       "      <th>3</th>\n",
       "      <td>Doc 0</td>\n",
       "      <td>4162-4184</td>\n",
       "      <td>GASTROINTESTINAL BLEED</td>\n",
       "      <td>dL, Lactic\\n   Acid:0.9 mmol/L, Albumin:2.8 g/...</td>\n",
       "      <td>C0017181</td>\n",
       "      <td>helena</td>\n",
       "      <td>True</td>\n",
       "      <td>No</td>\n",
       "      <td>No</td>\n",
       "      <td>True | No | No</td>\n",
       "      <td>GASTROINTESTINAL BLEED</td>\n",
       "      <td>C0017181</td>\n",
       "      <td>No</td>\n",
       "      <td>No</td>\n",
       "    </tr>\n",
       "    <tr>\n",
       "      <th>4</th>\n",
       "      <td>Doc 0</td>\n",
       "      <td>4217-4239</td>\n",
       "      <td>GASTROINTESTINAL BLEED</td>\n",
       "      <td>5 IU/L, Ca++:7.7 mg/dL,\\n   Mg++:1.3 mg/dL, PO...</td>\n",
       "      <td>C0017181</td>\n",
       "      <td>helena</td>\n",
       "      <td>True</td>\n",
       "      <td>No</td>\n",
       "      <td>No</td>\n",
       "      <td>True | No | No</td>\n",
       "      <td>GASTROINTESTINAL BLEED</td>\n",
       "      <td>C0017181</td>\n",
       "      <td>No</td>\n",
       "      <td>No</td>\n",
       "    </tr>\n",
       "  </tbody>\n",
       "</table>\n",
       "</div>"
      ],
      "text/plain": [
       "  doc_id annotation_id                 string_x  \\\n",
       "0  Doc 0        87-110  No Known Drug Allergies   \n",
       "1  Doc 0       273-296  Piperacillin/Tazobactam   \n",
       "2  Doc 0       730-752   Hemodynamic monitoring   \n",
       "3  Doc 0     4162-4184   GASTROINTESTINAL BLEED   \n",
       "4  Doc 0     4217-4239   GASTROINTESTINAL BLEED   \n",
       "\n",
       "                                             context     cui_x    user  \\\n",
       "0   ******Start****** No Known Drug Allergies ***...  C0262581  helena   \n",
       "1  Allergies:\\n   No Known Drug Allergies\\n   Las...  C0250480  helena   \n",
       "2  hanges to medical and family history:\\n   Revi...  C4082936  helena   \n",
       "3  dL, Lactic\\n   Acid:0.9 mmol/L, Albumin:2.8 g/...  C0017181  helena   \n",
       "4  5 IU/L, Ca++:7.7 mg/dL,\\n   Mg++:1.3 mg/dL, PO...  C0017181  helena   \n",
       "\n",
       "   correct Negated_x Skip_x         combine                 string_y  \\\n",
       "0     True        No     No  True | No | No  No Known Drug Allergies   \n",
       "1     True        No     No  True | No | No  Piperacillin/Tazobactam   \n",
       "2     True        No     No  True | No | No   Hemodynamic monitoring   \n",
       "3     True        No     No  True | No | No   GASTROINTESTINAL BLEED   \n",
       "4     True        No     No  True | No | No   GASTROINTESTINAL BLEED   \n",
       "\n",
       "      cui_y Negated_y Skip_y  \n",
       "0  C0262581        No     No  \n",
       "1  C0250480        No     No  \n",
       "2  C4082936        No     No  \n",
       "3  C0017181        No     No  \n",
       "4  C0017181        No     No  "
      ]
     },
     "execution_count": 127,
     "metadata": {},
     "output_type": "execute_result"
    }
   ],
   "source": [
    "df_com.head()"
   ]
  },
  {
   "cell_type": "markdown",
   "metadata": {},
   "source": [
    "## Only consider correct mentions"
   ]
  },
  {
   "cell_type": "code",
   "execution_count": 128,
   "metadata": {},
   "outputs": [],
   "source": [
    "df_com = df_com[df_com['correct']==True]"
   ]
  },
  {
   "cell_type": "code",
   "execution_count": 129,
   "metadata": {},
   "outputs": [
    {
     "data": {
      "text/plain": [
       "(7230, 14)"
      ]
     },
     "execution_count": 129,
     "metadata": {},
     "output_type": "execute_result"
    }
   ],
   "source": [
    "df_com.shape"
   ]
  },
  {
   "cell_type": "code",
   "execution_count": 131,
   "metadata": {},
   "outputs": [
    {
     "data": {
      "text/plain": [
       "0.9590594744121715"
      ]
     },
     "execution_count": 131,
     "metadata": {},
     "output_type": "execute_result"
    }
   ],
   "source": [
    "len(df_com[df_com['Negated_x'] == df_com['Negated_y']])/len(df_com)"
   ]
  },
  {
   "cell_type": "code",
   "execution_count": 132,
   "metadata": {},
   "outputs": [
    {
     "data": {
      "text/plain": [
       "0.9118948824343015"
      ]
     },
     "execution_count": 132,
     "metadata": {},
     "output_type": "execute_result"
    }
   ],
   "source": [
    "len(df_com[df_com['Skip_x'] == df_com['Skip_y']])/len(df_com)"
   ]
  },
  {
   "cell_type": "code",
   "execution_count": 177,
   "metadata": {},
   "outputs": [],
   "source": [
    "from sklearn.metrics import confusion_matrix\n",
    "from sklearn.metrics import plot_confusion_matrix\n",
    "import seaborn as sns\n",
    "import matplotlib.pyplot as plt"
   ]
  },
  {
   "cell_type": "code",
   "execution_count": 178,
   "metadata": {},
   "outputs": [],
   "source": [
    "conm = confusion_matrix(df_com['Negated_x'], df_com['Negated_y'], labels=['No', 'Yes', 'Unknown', ''])"
   ]
  },
  {
   "cell_type": "code",
   "execution_count": 179,
   "metadata": {},
   "outputs": [
    {
     "data": {
      "text/plain": [
       "array([[6749,  167,    0,    0],\n",
       "       [ 110,  185,    0,    0],\n",
       "       [  16,    1,    0,    0],\n",
       "       [   2,    0,    0,    0]])"
      ]
     },
     "execution_count": 179,
     "metadata": {},
     "output_type": "execute_result"
    }
   ],
   "source": [
    "conm"
   ]
  },
  {
   "cell_type": "code",
   "execution_count": 180,
   "metadata": {},
   "outputs": [
    {
     "data": {
      "image/png": "[encoded data removed]",
      "text/plain": [
       "<Figure size 432x288 with 2 Axes>"
      ]
     },
     "metadata": {
      "needs_background": "light"
     },
     "output_type": "display_data"
    }
   ],
   "source": [
    "g = sns.heatmap(conm, annot=True, fmt=\"d\", xticklabels=['No', 'Yes', 'Unknown', ''], yticklabels=['No', 'Yes', 'Unknown', ''])\n",
    "g.set_xlabel('Machine')\n",
    "g.set_ylabel('Human')\n",
    "plt.show()"
   ]
  },
  {
   "cell_type": "code",
   "execution_count": 181,
   "metadata": {},
   "outputs": [],
   "source": [
    "conm = confusion_matrix(df_com['Skip_x'], df_com['Skip_y'], labels=['No', 'Yes', ''], normalize=None)"
   ]
  },
  {
   "cell_type": "code",
   "execution_count": 182,
   "metadata": {},
   "outputs": [
    {
     "data": {
      "text/plain": [
       "array([[6552,  436,    0],\n",
       "       [ 195,   41,    0],\n",
       "       [   5,    1,    0]])"
      ]
     },
     "execution_count": 182,
     "metadata": {},
     "output_type": "execute_result"
    }
   ],
   "source": [
    "conm"
   ]
  },
  {
   "cell_type": "code",
   "execution_count": 183,
   "metadata": {},
   "outputs": [
    {
     "data": {
      "image/png": "[encoded data removed]",
      "text/plain": [
       "<Figure size 432x288 with 2 Axes>"
      ]
     },
     "metadata": {
      "needs_background": "light"
     },
     "output_type": "display_data"
    }
   ],
   "source": [
    "g = sns.heatmap(conm, annot=True, fmt=\"d\", xticklabels=['No', 'Yes', ''], yticklabels=['No', 'Yes', ''])\n",
    "g.set_xlabel('Machine')\n",
    "g.set_ylabel('Human')\n",
    "plt.show()"
   ]
  },
  {
   "cell_type": "code",
   "execution_count": null,
   "metadata": {},
   "outputs": [],
   "source": []
  }
 ],
 "metadata": {
  "kernelspec": {
   "display_name": "medcat",
   "language": "python",
   "name": "medcat37"
  },
  "language_info": {
   "codemirror_mode": {
    "name": "ipython",
    "version": 3
   },
   "file_extension": ".py",
   "mimetype": "text/x-python",
   "name": "python",
   "nbconvert_exporter": "python",
   "pygments_lexer": "ipython3",
   "version": "3.7.9"
  }
 },
 "nbformat": 4,
 "nbformat_minor": 4
}
